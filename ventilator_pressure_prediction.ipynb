{
 "cells": [
  {
   "cell_type": "markdown",
   "metadata": {
    "id": "hiF4pvNzEVbk"
   },
   "source": [
    "# Ventilator-Pressure-Prediction\n",
    "\n"
   ]
  },
  {
   "cell_type": "markdown",
   "metadata": {
    "id": "iPWeH0GeJU5Q"
   },
   "source": [
    "## Installing Required Libraries"
   ]
  },
  {
   "cell_type": "code",
   "execution_count": 1,
   "metadata": {
    "colab": {
     "base_uri": "https://localhost:8080/",
     "height": 468
    },
    "executionInfo": {
     "elapsed": 9071,
     "status": "ok",
     "timestamp": 1673679875012,
     "user": {
      "displayName": "Rajesh P",
      "userId": "10767652069023223049"
     },
     "user_tz": -330
    },
    "id": "OOyug6lOEyyf",
    "outputId": "12186c1b-ffd3-48f3-a5d8-ffcec19c723d"
   },
   "outputs": [
    {
     "name": "stdout",
     "output_type": "stream",
     "text": [
      "Looking in indexes: https://pypi.org/simple, https://us-python.pkg.dev/colab-wheels/public/simple/\n",
      "Collecting jovian\n",
      "  Downloading jovian-0.2.45-py2.py3-none-any.whl (68 kB)\n",
      "\u001b[2K     \u001b[90m━━━━━━━━━━━━━━━━━━━━━━━━━━━━━━━━━━━━━━━\u001b[0m \u001b[32m68.6/68.6 KB\u001b[0m \u001b[31m674.4 kB/s\u001b[0m eta \u001b[36m0:00:00\u001b[0m\n",
      "\u001b[?25hRequirement already satisfied: click in /usr/local/lib/python3.8/dist-packages (from jovian) (7.1.2)\n",
      "Requirement already satisfied: requests in /usr/local/lib/python3.8/dist-packages (from jovian) (2.25.1)\n",
      "Collecting uuid\n",
      "  Downloading uuid-1.30.tar.gz (5.8 kB)\n",
      "  Preparing metadata (setup.py) ... \u001b[?25l\u001b[?25hdone\n",
      "Requirement already satisfied: pyyaml in /usr/local/lib/python3.8/dist-packages (from jovian) (6.0)\n",
      "Requirement already satisfied: certifi>=2017.4.17 in /usr/local/lib/python3.8/dist-packages (from requests->jovian) (2022.12.7)\n",
      "Requirement already satisfied: idna<3,>=2.5 in /usr/local/lib/python3.8/dist-packages (from requests->jovian) (2.10)\n",
      "Requirement already satisfied: chardet<5,>=3.0.2 in /usr/local/lib/python3.8/dist-packages (from requests->jovian) (4.0.0)\n",
      "Requirement already satisfied: urllib3<1.27,>=1.21.1 in /usr/local/lib/python3.8/dist-packages (from requests->jovian) (1.24.3)\n",
      "Building wheels for collected packages: uuid\n",
      "  Building wheel for uuid (setup.py) ... \u001b[?25l\u001b[?25hdone\n",
      "  Created wheel for uuid: filename=uuid-1.30-py3-none-any.whl size=6502 sha256=323b0e02d9c368974a4291c0cf50e72cd5e70b26c6b9e8295c41b0d031bddec5\n",
      "  Stored in directory: /root/.cache/pip/wheels/1b/6c/cb/f9aae2bc97333c3d6e060826c1ee9e44e46306a178e5783505\n",
      "Successfully built uuid\n",
      "Installing collected packages: uuid, jovian\n",
      "Successfully installed jovian-0.2.45 uuid-1.30\n"
     ]
    },
    {
     "data": {
      "application/vnd.colab-display-data+json": {
       "pip_warning": {
        "packages": [
         "uuid"
        ]
       }
      }
     },
     "metadata": {},
     "output_type": "display_data"
    }
   ],
   "source": [
    "!pip install jovian"
   ]
  },
  {
   "cell_type": "code",
   "execution_count": 2,
   "metadata": {
    "executionInfo": {
     "elapsed": 7,
     "status": "ok",
     "timestamp": 1673679875012,
     "user": {
      "displayName": "Rajesh P",
      "userId": "10767652069023223049"
     },
     "user_tz": -330
    },
    "id": "IjpmGOaREVbn"
   },
   "outputs": [],
   "source": [
    "import jovian"
   ]
  },
  {
   "cell_type": "code",
   "execution_count": 3,
   "metadata": {
    "colab": {
     "base_uri": "https://localhost:8080/"
    },
    "executionInfo": {
     "elapsed": 6,
     "status": "ok",
     "timestamp": 1673679875012,
     "user": {
      "displayName": "Rajesh P",
      "userId": "10767652069023223049"
     },
     "user_tz": -330
    },
    "id": "Ldyl2hDoEVbo",
    "outputId": "6b559b5a-9003-4fc0-e21f-34cac8c58bc0"
   },
   "outputs": [
    {
     "name": "stdout",
     "output_type": "stream",
     "text": [
      "[jovian] Detected Colab notebook...\u001b[0m\n",
      "[jovian] jovian.commit() is no longer required on Google Colab. If you ran this notebook from Jovian, \n",
      "then just save this file in Colab using Ctrl+S/Cmd+S and it will be updated on Jovian. \n",
      "Also, you can also delete this cell, it's no longer necessary.\u001b[0m\n"
     ]
    }
   ],
   "source": [
    "jovian.commit(project = 'Ventilator Pressure Prediction')"
   ]
  },
  {
   "cell_type": "code",
   "execution_count": 4,
   "metadata": {
    "colab": {
     "base_uri": "https://localhost:8080/"
    },
    "executionInfo": {
     "elapsed": 5955,
     "status": "ok",
     "timestamp": 1673679880963,
     "user": {
      "displayName": "Rajesh P",
      "userId": "10767652069023223049"
     },
     "user_tz": -330
    },
    "id": "JsHcWTM8FBal",
    "outputId": "604e6775-d75a-4496-c662-655c710dbc4e"
   },
   "outputs": [
    {
     "name": "stdout",
     "output_type": "stream",
     "text": [
      "Looking in indexes: https://pypi.org/simple, https://us-python.pkg.dev/colab-wheels/public/simple/\n",
      "Collecting opendatasets\n",
      "  Downloading opendatasets-0.1.22-py3-none-any.whl (15 kB)\n",
      "Requirement already satisfied: kaggle in /usr/local/lib/python3.8/dist-packages (from opendatasets) (1.5.12)\n",
      "Requirement already satisfied: click in /usr/local/lib/python3.8/dist-packages (from opendatasets) (7.1.2)\n",
      "Requirement already satisfied: tqdm in /usr/local/lib/python3.8/dist-packages (from opendatasets) (4.64.1)\n",
      "Requirement already satisfied: requests in /usr/local/lib/python3.8/dist-packages (from kaggle->opendatasets) (2.25.1)\n",
      "Requirement already satisfied: six>=1.10 in /usr/local/lib/python3.8/dist-packages (from kaggle->opendatasets) (1.15.0)\n",
      "Requirement already satisfied: urllib3 in /usr/local/lib/python3.8/dist-packages (from kaggle->opendatasets) (1.24.3)\n",
      "Requirement already satisfied: python-slugify in /usr/local/lib/python3.8/dist-packages (from kaggle->opendatasets) (7.0.0)\n",
      "Requirement already satisfied: python-dateutil in /usr/local/lib/python3.8/dist-packages (from kaggle->opendatasets) (2.8.2)\n",
      "Requirement already satisfied: certifi in /usr/local/lib/python3.8/dist-packages (from kaggle->opendatasets) (2022.12.7)\n",
      "Requirement already satisfied: text-unidecode>=1.3 in /usr/local/lib/python3.8/dist-packages (from python-slugify->kaggle->opendatasets) (1.3)\n",
      "Requirement already satisfied: chardet<5,>=3.0.2 in /usr/local/lib/python3.8/dist-packages (from requests->kaggle->opendatasets) (4.0.0)\n",
      "Requirement already satisfied: idna<3,>=2.5 in /usr/local/lib/python3.8/dist-packages (from requests->kaggle->opendatasets) (2.10)\n",
      "Installing collected packages: opendatasets\n",
      "Successfully installed opendatasets-0.1.22\n"
     ]
    }
   ],
   "source": [
    "!pip install opendatasets"
   ]
  },
  {
   "cell_type": "code",
   "execution_count": 5,
   "metadata": {
    "executionInfo": {
     "elapsed": 1329,
     "status": "ok",
     "timestamp": 1673679882290,
     "user": {
      "displayName": "Rajesh P",
      "userId": "10767652069023223049"
     },
     "user_tz": -330
    },
    "id": "2t4C_g4yEVbo"
   },
   "outputs": [],
   "source": [
    "import numpy as np\n",
    "import pandas as pd\n",
    "import os\n",
    "import opendatasets as od\n",
    "import matplotlib.pyplot as plt\n",
    "import seaborn as sns\n",
    "import matplotlib\n",
    "%matplotlib inline"
   ]
  },
  {
   "cell_type": "markdown",
   "metadata": {
    "id": "sxUIT4DYJjFl"
   },
   "source": [
    "## Downloading the Dataset"
   ]
  },
  {
   "cell_type": "markdown",
   "metadata": {
    "id": "5dmhT8-NJx_U"
   },
   "source": [
    "We can download the data set from the following link https://www.kaggle.com/competitions/ventilator-pressure-prediction/data?select=train.csv"
   ]
  },
  {
   "cell_type": "code",
   "execution_count": 7,
   "metadata": {
    "colab": {
     "base_uri": "https://localhost:8080/"
    },
    "executionInfo": {
     "elapsed": 42035,
     "status": "ok",
     "timestamp": 1673680070033,
     "user": {
      "displayName": "Rajesh P",
      "userId": "10767652069023223049"
     },
     "user_tz": -330
    },
    "id": "c6r4YQLAEsBV",
    "outputId": "70355a98-f8e3-4f3e-8562-2f2422b189b7"
   },
   "outputs": [
    {
     "name": "stdout",
     "output_type": "stream",
     "text": [
      "Please provide your Kaggle credentials to download this dataset. Learn more: http://bit.ly/kaggle-creds\n",
      "Your Kaggle username: rajesh22ed\n",
      "Your Kaggle Key: ··········\n",
      "Downloading ventilator-pressure-prediction.zip to ./ventilator-pressure-prediction\n"
     ]
    },
    {
     "name": "stderr",
     "output_type": "stream",
     "text": [
      "100%|██████████| 223M/223M [00:09<00:00, 25.8MB/s]\n"
     ]
    },
    {
     "name": "stdout",
     "output_type": "stream",
     "text": [
      "\n",
      "Extracting archive ./ventilator-pressure-prediction/ventilator-pressure-prediction.zip to ./ventilator-pressure-prediction\n"
     ]
    }
   ],
   "source": [
    "od.download('https://www.kaggle.com/competitions/ventilator-pressure-prediction/data?select=train.csv')"
   ]
  },
  {
   "cell_type": "markdown",
   "metadata": {
    "id": "2YLrXpWOL39z"
   },
   "source": [
    "#### General Information"
   ]
  },
  {
   "cell_type": "markdown",
   "metadata": {
    "id": "goHqSkORL4Vx"
   },
   "source": [
    "In this we work with the data from ventilators connected to a sedated patient's lung. Our goal is to similate the ventilator and correctly predict the airway pressure in the respiratory circuit during the breath.\n",
    "\n",
    "It is important to understand that this isn't a usual time-series competition: in time-series tasks we need to predict the future values of the series based on the previous values. Here we use the values of different series to predict the values of other series. So this is a regression task."
   ]
  },
  {
   "cell_type": "code",
   "execution_count": 8,
   "metadata": {
    "colab": {
     "base_uri": "https://localhost:8080/",
     "height": 35
    },
    "executionInfo": {
     "elapsed": 859,
     "status": "ok",
     "timestamp": 1673680087726,
     "user": {
      "displayName": "Rajesh P",
      "userId": "10767652069023223049"
     },
     "user_tz": -330
    },
    "id": "VIskwK97FjA7",
    "outputId": "5e5c51f5-8a30-4508-92a7-a2c24c940916"
   },
   "outputs": [
    {
     "data": {
      "application/vnd.google.colaboratory.intrinsic+json": {
       "type": "string"
      },
      "text/plain": [
       "'train.csv'"
      ]
     },
     "execution_count": 8,
     "metadata": {},
     "output_type": "execute_result"
    }
   ],
   "source": [
    "sample_df_dir = os.listdir('ventilator-pressure-prediction')[0]\n",
    "sample_df_dir"
   ]
  },
  {
   "cell_type": "code",
   "execution_count": 9,
   "metadata": {
    "executionInfo": {
     "elapsed": 2168,
     "status": "ok",
     "timestamp": 1673680093254,
     "user": {
      "displayName": "Rajesh P",
      "userId": "10767652069023223049"
     },
     "user_tz": -330
    },
    "id": "Ewycs3L_FsCc"
   },
   "outputs": [],
   "source": [
    "raw_df = pd.read_csv('./ventilator-pressure-prediction/train.csv')"
   ]
  },
  {
   "cell_type": "code",
   "execution_count": 10,
   "metadata": {
    "colab": {
     "base_uri": "https://localhost:8080/"
    },
    "executionInfo": {
     "elapsed": 15,
     "status": "ok",
     "timestamp": 1673680093254,
     "user": {
      "displayName": "Rajesh P",
      "userId": "10767652069023223049"
     },
     "user_tz": -330
    },
    "id": "aOG0HEzsGO0T",
    "outputId": "b152f841-4748-4b49-a07e-0b2bf42173f9"
   },
   "outputs": [
    {
     "data": {
      "text/plain": [
       "(6036000, 8)"
      ]
     },
     "execution_count": 10,
     "metadata": {},
     "output_type": "execute_result"
    }
   ],
   "source": [
    "raw_df.shape"
   ]
  },
  {
   "cell_type": "markdown",
   "metadata": {
    "id": "9UKMRrSRKCC7"
   },
   "source": [
    "We don't have to train entire data for the model. Because the datasets have about 6 Million records. It will consume a lot of time for the model training. So we can train the model with only 150000 records."
   ]
  },
  {
   "cell_type": "code",
   "execution_count": 11,
   "metadata": {
    "executionInfo": {
     "elapsed": 14,
     "status": "ok",
     "timestamp": 1673680093255,
     "user": {
      "displayName": "Rajesh P",
      "userId": "10767652069023223049"
     },
     "user_tz": -330
    },
    "id": "urlyjixTGVC7"
   },
   "outputs": [],
   "source": [
    "sample_df = raw_df[:150000]"
   ]
  },
  {
   "cell_type": "code",
   "execution_count": 12,
   "metadata": {
    "colab": {
     "base_uri": "https://localhost:8080/"
    },
    "executionInfo": {
     "elapsed": 14,
     "status": "ok",
     "timestamp": 1673680093255,
     "user": {
      "displayName": "Rajesh P",
      "userId": "10767652069023223049"
     },
     "user_tz": -330
    },
    "id": "acfkwvhYGdFz",
    "outputId": "d2f25fd8-63db-4d22-8339-7c8363bcc78f"
   },
   "outputs": [
    {
     "name": "stdout",
     "output_type": "stream",
     "text": [
      "<class 'pandas.core.frame.DataFrame'>\n",
      "RangeIndex: 150000 entries, 0 to 149999\n",
      "Data columns (total 8 columns):\n",
      " #   Column     Non-Null Count   Dtype  \n",
      "---  ------     --------------   -----  \n",
      " 0   id         150000 non-null  int64  \n",
      " 1   breath_id  150000 non-null  int64  \n",
      " 2   R          150000 non-null  int64  \n",
      " 3   C          150000 non-null  int64  \n",
      " 4   time_step  150000 non-null  float64\n",
      " 5   u_in       150000 non-null  float64\n",
      " 6   u_out      150000 non-null  int64  \n",
      " 7   pressure   150000 non-null  float64\n",
      "dtypes: float64(3), int64(5)\n",
      "memory usage: 9.2 MB\n"
     ]
    }
   ],
   "source": [
    "sample_df.info()"
   ]
  },
  {
   "cell_type": "markdown",
   "metadata": {
    "id": "c10IZSJHJoE_"
   },
   "source": [
    "There is no missing values in the dataset."
   ]
  },
  {
   "cell_type": "code",
   "execution_count": 13,
   "metadata": {
    "colab": {
     "base_uri": "https://localhost:8080/",
     "height": 206
    },
    "executionInfo": {
     "elapsed": 11,
     "status": "ok",
     "timestamp": 1673680093255,
     "user": {
      "displayName": "Rajesh P",
      "userId": "10767652069023223049"
     },
     "user_tz": -330
    },
    "id": "E0IieqaDGfaT",
    "outputId": "da0d6c68-7ecd-420c-9eeb-92e4df714326"
   },
   "outputs": [
    {
     "data": {
      "text/html": [
       "\n",
       "  <div id=\"df-df8aa2ec-0ae9-41d3-9582-097933919dd6\">\n",
       "    <div class=\"colab-df-container\">\n",
       "      <div>\n",
       "<style scoped>\n",
       "    .dataframe tbody tr th:only-of-type {\n",
       "        vertical-align: middle;\n",
       "    }\n",
       "\n",
       "    .dataframe tbody tr th {\n",
       "        vertical-align: top;\n",
       "    }\n",
       "\n",
       "    .dataframe thead th {\n",
       "        text-align: right;\n",
       "    }\n",
       "</style>\n",
       "<table border=\"1\" class=\"dataframe\">\n",
       "  <thead>\n",
       "    <tr style=\"text-align: right;\">\n",
       "      <th></th>\n",
       "      <th>id</th>\n",
       "      <th>breath_id</th>\n",
       "      <th>R</th>\n",
       "      <th>C</th>\n",
       "      <th>time_step</th>\n",
       "      <th>u_in</th>\n",
       "      <th>u_out</th>\n",
       "      <th>pressure</th>\n",
       "    </tr>\n",
       "  </thead>\n",
       "  <tbody>\n",
       "    <tr>\n",
       "      <th>0</th>\n",
       "      <td>1</td>\n",
       "      <td>1</td>\n",
       "      <td>20</td>\n",
       "      <td>50</td>\n",
       "      <td>0.000000</td>\n",
       "      <td>0.083334</td>\n",
       "      <td>0</td>\n",
       "      <td>5.837492</td>\n",
       "    </tr>\n",
       "    <tr>\n",
       "      <th>1</th>\n",
       "      <td>2</td>\n",
       "      <td>1</td>\n",
       "      <td>20</td>\n",
       "      <td>50</td>\n",
       "      <td>0.033652</td>\n",
       "      <td>18.383041</td>\n",
       "      <td>0</td>\n",
       "      <td>5.907794</td>\n",
       "    </tr>\n",
       "    <tr>\n",
       "      <th>2</th>\n",
       "      <td>3</td>\n",
       "      <td>1</td>\n",
       "      <td>20</td>\n",
       "      <td>50</td>\n",
       "      <td>0.067514</td>\n",
       "      <td>22.509278</td>\n",
       "      <td>0</td>\n",
       "      <td>7.876254</td>\n",
       "    </tr>\n",
       "    <tr>\n",
       "      <th>3</th>\n",
       "      <td>4</td>\n",
       "      <td>1</td>\n",
       "      <td>20</td>\n",
       "      <td>50</td>\n",
       "      <td>0.101542</td>\n",
       "      <td>22.808822</td>\n",
       "      <td>0</td>\n",
       "      <td>11.742872</td>\n",
       "    </tr>\n",
       "    <tr>\n",
       "      <th>4</th>\n",
       "      <td>5</td>\n",
       "      <td>1</td>\n",
       "      <td>20</td>\n",
       "      <td>50</td>\n",
       "      <td>0.135756</td>\n",
       "      <td>25.355850</td>\n",
       "      <td>0</td>\n",
       "      <td>12.234987</td>\n",
       "    </tr>\n",
       "  </tbody>\n",
       "</table>\n",
       "</div>\n",
       "      <button class=\"colab-df-convert\" onclick=\"convertToInteractive('df-df8aa2ec-0ae9-41d3-9582-097933919dd6')\"\n",
       "              title=\"Convert this dataframe to an interactive table.\"\n",
       "              style=\"display:none;\">\n",
       "        \n",
       "  <svg xmlns=\"http://www.w3.org/2000/svg\" height=\"24px\"viewBox=\"0 0 24 24\"\n",
       "       width=\"24px\">\n",
       "    <path d=\"M0 0h24v24H0V0z\" fill=\"none\"/>\n",
       "    <path d=\"M18.56 5.44l.94 2.06.94-2.06 2.06-.94-2.06-.94-.94-2.06-.94 2.06-2.06.94zm-11 1L8.5 8.5l.94-2.06 2.06-.94-2.06-.94L8.5 2.5l-.94 2.06-2.06.94zm10 10l.94 2.06.94-2.06 2.06-.94-2.06-.94-.94-2.06-.94 2.06-2.06.94z\"/><path d=\"M17.41 7.96l-1.37-1.37c-.4-.4-.92-.59-1.43-.59-.52 0-1.04.2-1.43.59L10.3 9.45l-7.72 7.72c-.78.78-.78 2.05 0 2.83L4 21.41c.39.39.9.59 1.41.59.51 0 1.02-.2 1.41-.59l7.78-7.78 2.81-2.81c.8-.78.8-2.07 0-2.86zM5.41 20L4 18.59l7.72-7.72 1.47 1.35L5.41 20z\"/>\n",
       "  </svg>\n",
       "      </button>\n",
       "      \n",
       "  <style>\n",
       "    .colab-df-container {\n",
       "      display:flex;\n",
       "      flex-wrap:wrap;\n",
       "      gap: 12px;\n",
       "    }\n",
       "\n",
       "    .colab-df-convert {\n",
       "      background-color: #E8F0FE;\n",
       "      border: none;\n",
       "      border-radius: 50%;\n",
       "      cursor: pointer;\n",
       "      display: none;\n",
       "      fill: #1967D2;\n",
       "      height: 32px;\n",
       "      padding: 0 0 0 0;\n",
       "      width: 32px;\n",
       "    }\n",
       "\n",
       "    .colab-df-convert:hover {\n",
       "      background-color: #E2EBFA;\n",
       "      box-shadow: 0px 1px 2px rgba(60, 64, 67, 0.3), 0px 1px 3px 1px rgba(60, 64, 67, 0.15);\n",
       "      fill: #174EA6;\n",
       "    }\n",
       "\n",
       "    [theme=dark] .colab-df-convert {\n",
       "      background-color: #3B4455;\n",
       "      fill: #D2E3FC;\n",
       "    }\n",
       "\n",
       "    [theme=dark] .colab-df-convert:hover {\n",
       "      background-color: #434B5C;\n",
       "      box-shadow: 0px 1px 3px 1px rgba(0, 0, 0, 0.15);\n",
       "      filter: drop-shadow(0px 1px 2px rgba(0, 0, 0, 0.3));\n",
       "      fill: #FFFFFF;\n",
       "    }\n",
       "  </style>\n",
       "\n",
       "      <script>\n",
       "        const buttonEl =\n",
       "          document.querySelector('#df-df8aa2ec-0ae9-41d3-9582-097933919dd6 button.colab-df-convert');\n",
       "        buttonEl.style.display =\n",
       "          google.colab.kernel.accessAllowed ? 'block' : 'none';\n",
       "\n",
       "        async function convertToInteractive(key) {\n",
       "          const element = document.querySelector('#df-df8aa2ec-0ae9-41d3-9582-097933919dd6');\n",
       "          const dataTable =\n",
       "            await google.colab.kernel.invokeFunction('convertToInteractive',\n",
       "                                                     [key], {});\n",
       "          if (!dataTable) return;\n",
       "\n",
       "          const docLinkHtml = 'Like what you see? Visit the ' +\n",
       "            '<a target=\"_blank\" href=https://colab.research.google.com/notebooks/data_table.ipynb>data table notebook</a>'\n",
       "            + ' to learn more about interactive tables.';\n",
       "          element.innerHTML = '';\n",
       "          dataTable['output_type'] = 'display_data';\n",
       "          await google.colab.output.renderOutput(dataTable, element);\n",
       "          const docLink = document.createElement('div');\n",
       "          docLink.innerHTML = docLinkHtml;\n",
       "          element.appendChild(docLink);\n",
       "        }\n",
       "      </script>\n",
       "    </div>\n",
       "  </div>\n",
       "  "
      ],
      "text/plain": [
       "   id  breath_id   R   C  time_step       u_in  u_out   pressure\n",
       "0   1          1  20  50   0.000000   0.083334      0   5.837492\n",
       "1   2          1  20  50   0.033652  18.383041      0   5.907794\n",
       "2   3          1  20  50   0.067514  22.509278      0   7.876254\n",
       "3   4          1  20  50   0.101542  22.808822      0  11.742872\n",
       "4   5          1  20  50   0.135756  25.355850      0  12.234987"
      ]
     },
     "execution_count": 13,
     "metadata": {},
     "output_type": "execute_result"
    }
   ],
   "source": [
    "sample_df.head()"
   ]
  },
  {
   "cell_type": "code",
   "execution_count": 14,
   "metadata": {
    "colab": {
     "base_uri": "https://localhost:8080/"
    },
    "executionInfo": {
     "elapsed": 11,
     "status": "ok",
     "timestamp": 1673680093255,
     "user": {
      "displayName": "Rajesh P",
      "userId": "10767652069023223049"
     },
     "user_tz": -330
    },
    "id": "11uRYYG4GjWE",
    "outputId": "a55a8643-913a-4333-a486-e9cfb7cbaa37"
   },
   "outputs": [
    {
     "data": {
      "text/plain": [
       "array([   1,    2,    3, ..., 3067, 3070, 3073])"
      ]
     },
     "execution_count": 14,
     "metadata": {},
     "output_type": "execute_result"
    }
   ],
   "source": [
    "sample_df.breath_id.unique()"
   ]
  },
  {
   "cell_type": "code",
   "execution_count": 15,
   "metadata": {
    "colab": {
     "base_uri": "https://localhost:8080/",
     "height": 300
    },
    "executionInfo": {
     "elapsed": 9,
     "status": "ok",
     "timestamp": 1673680093255,
     "user": {
      "displayName": "Rajesh P",
      "userId": "10767652069023223049"
     },
     "user_tz": -330
    },
    "id": "vMEw0YngHBRk",
    "outputId": "8140c71b-c3ae-46f6-e82e-70be1fb8d96b"
   },
   "outputs": [
    {
     "data": {
      "text/html": [
       "\n",
       "  <div id=\"df-a990a2c0-91e5-4905-90b3-317e9057e60a\">\n",
       "    <div class=\"colab-df-container\">\n",
       "      <div>\n",
       "<style scoped>\n",
       "    .dataframe tbody tr th:only-of-type {\n",
       "        vertical-align: middle;\n",
       "    }\n",
       "\n",
       "    .dataframe tbody tr th {\n",
       "        vertical-align: top;\n",
       "    }\n",
       "\n",
       "    .dataframe thead th {\n",
       "        text-align: right;\n",
       "    }\n",
       "</style>\n",
       "<table border=\"1\" class=\"dataframe\">\n",
       "  <thead>\n",
       "    <tr style=\"text-align: right;\">\n",
       "      <th></th>\n",
       "      <th>id</th>\n",
       "      <th>breath_id</th>\n",
       "      <th>R</th>\n",
       "      <th>C</th>\n",
       "      <th>time_step</th>\n",
       "      <th>u_in</th>\n",
       "      <th>u_out</th>\n",
       "      <th>pressure</th>\n",
       "    </tr>\n",
       "  </thead>\n",
       "  <tbody>\n",
       "    <tr>\n",
       "      <th>count</th>\n",
       "      <td>150000.000000</td>\n",
       "      <td>150000.000000</td>\n",
       "      <td>150000.000000</td>\n",
       "      <td>150000.000000</td>\n",
       "      <td>150000.000000</td>\n",
       "      <td>150000.000000</td>\n",
       "      <td>150000.000000</td>\n",
       "      <td>150000.000000</td>\n",
       "    </tr>\n",
       "    <tr>\n",
       "      <th>mean</th>\n",
       "      <td>75000.500000</td>\n",
       "      <td>1505.553067</td>\n",
       "      <td>26.904000</td>\n",
       "      <td>26.405333</td>\n",
       "      <td>1.307816</td>\n",
       "      <td>7.293501</td>\n",
       "      <td>0.620607</td>\n",
       "      <td>11.269882</td>\n",
       "    </tr>\n",
       "    <tr>\n",
       "      <th>std</th>\n",
       "      <td>43301.414527</td>\n",
       "      <td>893.497516</td>\n",
       "      <td>19.552425</td>\n",
       "      <td>17.173245</td>\n",
       "      <td>0.766331</td>\n",
       "      <td>13.294588</td>\n",
       "      <td>0.485238</td>\n",
       "      <td>8.230523</td>\n",
       "    </tr>\n",
       "    <tr>\n",
       "      <th>min</th>\n",
       "      <td>1.000000</td>\n",
       "      <td>1.000000</td>\n",
       "      <td>5.000000</td>\n",
       "      <td>10.000000</td>\n",
       "      <td>0.000000</td>\n",
       "      <td>0.000000</td>\n",
       "      <td>0.000000</td>\n",
       "      <td>-1.895744</td>\n",
       "    </tr>\n",
       "    <tr>\n",
       "      <th>25%</th>\n",
       "      <td>37500.750000</td>\n",
       "      <td>718.000000</td>\n",
       "      <td>5.000000</td>\n",
       "      <td>10.000000</td>\n",
       "      <td>0.643085</td>\n",
       "      <td>0.525886</td>\n",
       "      <td>0.000000</td>\n",
       "      <td>6.329607</td>\n",
       "    </tr>\n",
       "    <tr>\n",
       "      <th>50%</th>\n",
       "      <td>75000.500000</td>\n",
       "      <td>1495.000000</td>\n",
       "      <td>20.000000</td>\n",
       "      <td>20.000000</td>\n",
       "      <td>1.308489</td>\n",
       "      <td>4.427331</td>\n",
       "      <td>1.000000</td>\n",
       "      <td>7.032628</td>\n",
       "    </tr>\n",
       "    <tr>\n",
       "      <th>75%</th>\n",
       "      <td>112500.250000</td>\n",
       "      <td>2286.000000</td>\n",
       "      <td>50.000000</td>\n",
       "      <td>50.000000</td>\n",
       "      <td>1.966514</td>\n",
       "      <td>4.985863</td>\n",
       "      <td>1.000000</td>\n",
       "      <td>13.641030</td>\n",
       "    </tr>\n",
       "    <tr>\n",
       "      <th>max</th>\n",
       "      <td>150000.000000</td>\n",
       "      <td>3073.000000</td>\n",
       "      <td>50.000000</td>\n",
       "      <td>50.000000</td>\n",
       "      <td>2.738740</td>\n",
       "      <td>100.000000</td>\n",
       "      <td>1.000000</td>\n",
       "      <td>64.820992</td>\n",
       "    </tr>\n",
       "  </tbody>\n",
       "</table>\n",
       "</div>\n",
       "      <button class=\"colab-df-convert\" onclick=\"convertToInteractive('df-a990a2c0-91e5-4905-90b3-317e9057e60a')\"\n",
       "              title=\"Convert this dataframe to an interactive table.\"\n",
       "              style=\"display:none;\">\n",
       "        \n",
       "  <svg xmlns=\"http://www.w3.org/2000/svg\" height=\"24px\"viewBox=\"0 0 24 24\"\n",
       "       width=\"24px\">\n",
       "    <path d=\"M0 0h24v24H0V0z\" fill=\"none\"/>\n",
       "    <path d=\"M18.56 5.44l.94 2.06.94-2.06 2.06-.94-2.06-.94-.94-2.06-.94 2.06-2.06.94zm-11 1L8.5 8.5l.94-2.06 2.06-.94-2.06-.94L8.5 2.5l-.94 2.06-2.06.94zm10 10l.94 2.06.94-2.06 2.06-.94-2.06-.94-.94-2.06-.94 2.06-2.06.94z\"/><path d=\"M17.41 7.96l-1.37-1.37c-.4-.4-.92-.59-1.43-.59-.52 0-1.04.2-1.43.59L10.3 9.45l-7.72 7.72c-.78.78-.78 2.05 0 2.83L4 21.41c.39.39.9.59 1.41.59.51 0 1.02-.2 1.41-.59l7.78-7.78 2.81-2.81c.8-.78.8-2.07 0-2.86zM5.41 20L4 18.59l7.72-7.72 1.47 1.35L5.41 20z\"/>\n",
       "  </svg>\n",
       "      </button>\n",
       "      \n",
       "  <style>\n",
       "    .colab-df-container {\n",
       "      display:flex;\n",
       "      flex-wrap:wrap;\n",
       "      gap: 12px;\n",
       "    }\n",
       "\n",
       "    .colab-df-convert {\n",
       "      background-color: #E8F0FE;\n",
       "      border: none;\n",
       "      border-radius: 50%;\n",
       "      cursor: pointer;\n",
       "      display: none;\n",
       "      fill: #1967D2;\n",
       "      height: 32px;\n",
       "      padding: 0 0 0 0;\n",
       "      width: 32px;\n",
       "    }\n",
       "\n",
       "    .colab-df-convert:hover {\n",
       "      background-color: #E2EBFA;\n",
       "      box-shadow: 0px 1px 2px rgba(60, 64, 67, 0.3), 0px 1px 3px 1px rgba(60, 64, 67, 0.15);\n",
       "      fill: #174EA6;\n",
       "    }\n",
       "\n",
       "    [theme=dark] .colab-df-convert {\n",
       "      background-color: #3B4455;\n",
       "      fill: #D2E3FC;\n",
       "    }\n",
       "\n",
       "    [theme=dark] .colab-df-convert:hover {\n",
       "      background-color: #434B5C;\n",
       "      box-shadow: 0px 1px 3px 1px rgba(0, 0, 0, 0.15);\n",
       "      filter: drop-shadow(0px 1px 2px rgba(0, 0, 0, 0.3));\n",
       "      fill: #FFFFFF;\n",
       "    }\n",
       "  </style>\n",
       "\n",
       "      <script>\n",
       "        const buttonEl =\n",
       "          document.querySelector('#df-a990a2c0-91e5-4905-90b3-317e9057e60a button.colab-df-convert');\n",
       "        buttonEl.style.display =\n",
       "          google.colab.kernel.accessAllowed ? 'block' : 'none';\n",
       "\n",
       "        async function convertToInteractive(key) {\n",
       "          const element = document.querySelector('#df-a990a2c0-91e5-4905-90b3-317e9057e60a');\n",
       "          const dataTable =\n",
       "            await google.colab.kernel.invokeFunction('convertToInteractive',\n",
       "                                                     [key], {});\n",
       "          if (!dataTable) return;\n",
       "\n",
       "          const docLinkHtml = 'Like what you see? Visit the ' +\n",
       "            '<a target=\"_blank\" href=https://colab.research.google.com/notebooks/data_table.ipynb>data table notebook</a>'\n",
       "            + ' to learn more about interactive tables.';\n",
       "          element.innerHTML = '';\n",
       "          dataTable['output_type'] = 'display_data';\n",
       "          await google.colab.output.renderOutput(dataTable, element);\n",
       "          const docLink = document.createElement('div');\n",
       "          docLink.innerHTML = docLinkHtml;\n",
       "          element.appendChild(docLink);\n",
       "        }\n",
       "      </script>\n",
       "    </div>\n",
       "  </div>\n",
       "  "
      ],
      "text/plain": [
       "                  id      breath_id              R              C  \\\n",
       "count  150000.000000  150000.000000  150000.000000  150000.000000   \n",
       "mean    75000.500000    1505.553067      26.904000      26.405333   \n",
       "std     43301.414527     893.497516      19.552425      17.173245   \n",
       "min         1.000000       1.000000       5.000000      10.000000   \n",
       "25%     37500.750000     718.000000       5.000000      10.000000   \n",
       "50%     75000.500000    1495.000000      20.000000      20.000000   \n",
       "75%    112500.250000    2286.000000      50.000000      50.000000   \n",
       "max    150000.000000    3073.000000      50.000000      50.000000   \n",
       "\n",
       "           time_step           u_in          u_out       pressure  \n",
       "count  150000.000000  150000.000000  150000.000000  150000.000000  \n",
       "mean        1.307816       7.293501       0.620607      11.269882  \n",
       "std         0.766331      13.294588       0.485238       8.230523  \n",
       "min         0.000000       0.000000       0.000000      -1.895744  \n",
       "25%         0.643085       0.525886       0.000000       6.329607  \n",
       "50%         1.308489       4.427331       1.000000       7.032628  \n",
       "75%         1.966514       4.985863       1.000000      13.641030  \n",
       "max         2.738740     100.000000       1.000000      64.820992  "
      ]
     },
     "execution_count": 15,
     "metadata": {},
     "output_type": "execute_result"
    }
   ],
   "source": [
    "sample_df.describe()"
   ]
  },
  {
   "cell_type": "markdown",
   "metadata": {
    "id": "8jL-iG4MGBYJ"
   },
   "source": [
    "Number of unique values for each of the attributes."
   ]
  },
  {
   "cell_type": "code",
   "execution_count": 16,
   "metadata": {
    "colab": {
     "base_uri": "https://localhost:8080/"
    },
    "executionInfo": {
     "elapsed": 8,
     "status": "ok",
     "timestamp": 1673680093255,
     "user": {
      "displayName": "Rajesh P",
      "userId": "10767652069023223049"
     },
     "user_tz": -330
    },
    "id": "78f_Jr8fGsTy",
    "outputId": "229a5ee0-f084-4825-a3df-03c19e106b30"
   },
   "outputs": [
    {
     "name": "stdout",
     "output_type": "stream",
     "text": [
      "Feature : id --->  no.of.unique values 150000\n",
      "Feature : breath_id --->  no.of.unique values 1875\n",
      "Feature : R --->  no.of.unique values 3\n",
      "Feature : C --->  no.of.unique values 3\n",
      "Feature : time_step --->  no.of.unique values 145772\n",
      "Feature : u_in --->  no.of.unique values 113605\n",
      "Feature : u_out --->  no.of.unique values 2\n",
      "Feature : pressure --->  no.of.unique values 827\n"
     ]
    }
   ],
   "source": [
    "columns = sample_df.columns.to_list()\n",
    "for i in columns:\n",
    "  print(f'Feature : {i} --->  no.of.unique values {sample_df[i].nunique()}')"
   ]
  },
  {
   "cell_type": "code",
   "execution_count": 17,
   "metadata": {
    "colab": {
     "base_uri": "https://localhost:8080/"
    },
    "executionInfo": {
     "elapsed": 987,
     "status": "ok",
     "timestamp": 1673680094237,
     "user": {
      "displayName": "Rajesh P",
      "userId": "10767652069023223049"
     },
     "user_tz": -330
    },
    "id": "jzz50HfWMCbI",
    "outputId": "ef393c7e-c789-4ff8-cca8-af4e8f13dfa9"
   },
   "outputs": [
    {
     "name": "stderr",
     "output_type": "stream",
     "text": [
      "/usr/local/lib/python3.8/dist-packages/pandas/core/frame.py:4906: SettingWithCopyWarning: \n",
      "A value is trying to be set on a copy of a slice from a DataFrame\n",
      "\n",
      "See the caveats in the documentation: https://pandas.pydata.org/pandas-docs/stable/user_guide/indexing.html#returning-a-view-versus-a-copy\n",
      "  return super().drop(\n"
     ]
    }
   ],
   "source": [
    "sample_df.drop('id',axis = 1 ,inplace = True)"
   ]
  },
  {
   "cell_type": "markdown",
   "metadata": {
    "id": "-H01f8lfLPxQ"
   },
   "source": [
    "#### Attributes Information"
   ]
  },
  {
   "cell_type": "markdown",
   "metadata": {
    "id": "OcjdDVgdLhVa"
   },
   "source": [
    "- id - globally-unique time step identifier across an entire file\n",
    "- breath_id - globally-unique time step for breaths\n",
    "- R - lung attribute indicating how restricted the airway is (in cmH2O/L/S). Physically, this is the change in pressure per change in flow (air volume per time). Intuitively, one can imagine blowing up a balloon through a straw. We can change R by changing the diameter of the straw, with higher R being harder to blow.\n",
    "- C - lung attribute indicating how compliant the lung is (in mL/cmH2O). Physically, this is the change in volume per change in pressure. Intuitively, one can imagine the same balloon example. We can change C by changing the thickness of the balloon’s latex, with higher C having thinner latex and easier to blow.\n",
    "- time_step - the actual time stamp.\n",
    "- u_in - the control input for the inspiratory solenoid valve. Ranges from 0 to 100.\n",
    "- u_out - the control input for the exploratory solenoid valve. Either 0 or 1.\n",
    "- pressure - the airway pressure measured in the respiratory circuit, measured in cmH2O."
   ]
  },
  {
   "cell_type": "code",
   "execution_count": 18,
   "metadata": {
    "colab": {
     "base_uri": "https://localhost:8080/",
     "height": 424
    },
    "executionInfo": {
     "elapsed": 5,
     "status": "ok",
     "timestamp": 1673680094238,
     "user": {
      "displayName": "Rajesh P",
      "userId": "10767652069023223049"
     },
     "user_tz": -330
    },
    "id": "26ihu-hGI3dB",
    "outputId": "1b7af3c5-bdfc-41a6-d53d-05e8f69b7a9f"
   },
   "outputs": [
    {
     "data": {
      "text/html": [
       "\n",
       "  <div id=\"df-861b7c0f-a45d-47da-8191-699c81d38e1b\">\n",
       "    <div class=\"colab-df-container\">\n",
       "      <div>\n",
       "<style scoped>\n",
       "    .dataframe tbody tr th:only-of-type {\n",
       "        vertical-align: middle;\n",
       "    }\n",
       "\n",
       "    .dataframe tbody tr th {\n",
       "        vertical-align: top;\n",
       "    }\n",
       "\n",
       "    .dataframe thead th {\n",
       "        text-align: right;\n",
       "    }\n",
       "</style>\n",
       "<table border=\"1\" class=\"dataframe\">\n",
       "  <thead>\n",
       "    <tr style=\"text-align: right;\">\n",
       "      <th></th>\n",
       "      <th>breath_id</th>\n",
       "      <th>R</th>\n",
       "      <th>C</th>\n",
       "      <th>time_step</th>\n",
       "      <th>u_in</th>\n",
       "      <th>u_out</th>\n",
       "      <th>pressure</th>\n",
       "    </tr>\n",
       "  </thead>\n",
       "  <tbody>\n",
       "    <tr>\n",
       "      <th>0</th>\n",
       "      <td>1</td>\n",
       "      <td>20</td>\n",
       "      <td>50</td>\n",
       "      <td>0.000000</td>\n",
       "      <td>0.083334</td>\n",
       "      <td>0</td>\n",
       "      <td>5.837492</td>\n",
       "    </tr>\n",
       "    <tr>\n",
       "      <th>1</th>\n",
       "      <td>1</td>\n",
       "      <td>20</td>\n",
       "      <td>50</td>\n",
       "      <td>0.033652</td>\n",
       "      <td>18.383041</td>\n",
       "      <td>0</td>\n",
       "      <td>5.907794</td>\n",
       "    </tr>\n",
       "    <tr>\n",
       "      <th>2</th>\n",
       "      <td>1</td>\n",
       "      <td>20</td>\n",
       "      <td>50</td>\n",
       "      <td>0.067514</td>\n",
       "      <td>22.509278</td>\n",
       "      <td>0</td>\n",
       "      <td>7.876254</td>\n",
       "    </tr>\n",
       "    <tr>\n",
       "      <th>3</th>\n",
       "      <td>1</td>\n",
       "      <td>20</td>\n",
       "      <td>50</td>\n",
       "      <td>0.101542</td>\n",
       "      <td>22.808822</td>\n",
       "      <td>0</td>\n",
       "      <td>11.742872</td>\n",
       "    </tr>\n",
       "    <tr>\n",
       "      <th>4</th>\n",
       "      <td>1</td>\n",
       "      <td>20</td>\n",
       "      <td>50</td>\n",
       "      <td>0.135756</td>\n",
       "      <td>25.355850</td>\n",
       "      <td>0</td>\n",
       "      <td>12.234987</td>\n",
       "    </tr>\n",
       "    <tr>\n",
       "      <th>...</th>\n",
       "      <td>...</td>\n",
       "      <td>...</td>\n",
       "      <td>...</td>\n",
       "      <td>...</td>\n",
       "      <td>...</td>\n",
       "      <td>...</td>\n",
       "      <td>...</td>\n",
       "    </tr>\n",
       "    <tr>\n",
       "      <th>149995</th>\n",
       "      <td>3073</td>\n",
       "      <td>5</td>\n",
       "      <td>10</td>\n",
       "      <td>2.411273</td>\n",
       "      <td>4.954332</td>\n",
       "      <td>1</td>\n",
       "      <td>6.259305</td>\n",
       "    </tr>\n",
       "    <tr>\n",
       "      <th>149996</th>\n",
       "      <td>3073</td>\n",
       "      <td>5</td>\n",
       "      <td>10</td>\n",
       "      <td>2.443155</td>\n",
       "      <td>4.961062</td>\n",
       "      <td>1</td>\n",
       "      <td>6.259305</td>\n",
       "    </tr>\n",
       "    <tr>\n",
       "      <th>149997</th>\n",
       "      <td>3073</td>\n",
       "      <td>5</td>\n",
       "      <td>10</td>\n",
       "      <td>2.475990</td>\n",
       "      <td>4.966957</td>\n",
       "      <td>1</td>\n",
       "      <td>6.118700</td>\n",
       "    </tr>\n",
       "    <tr>\n",
       "      <th>149998</th>\n",
       "      <td>3073</td>\n",
       "      <td>5</td>\n",
       "      <td>10</td>\n",
       "      <td>2.507906</td>\n",
       "      <td>4.971831</td>\n",
       "      <td>1</td>\n",
       "      <td>6.329607</td>\n",
       "    </tr>\n",
       "    <tr>\n",
       "      <th>149999</th>\n",
       "      <td>3073</td>\n",
       "      <td>5</td>\n",
       "      <td>10</td>\n",
       "      <td>2.539840</td>\n",
       "      <td>4.975988</td>\n",
       "      <td>1</td>\n",
       "      <td>6.048398</td>\n",
       "    </tr>\n",
       "  </tbody>\n",
       "</table>\n",
       "<p>150000 rows × 7 columns</p>\n",
       "</div>\n",
       "      <button class=\"colab-df-convert\" onclick=\"convertToInteractive('df-861b7c0f-a45d-47da-8191-699c81d38e1b')\"\n",
       "              title=\"Convert this dataframe to an interactive table.\"\n",
       "              style=\"display:none;\">\n",
       "        \n",
       "  <svg xmlns=\"http://www.w3.org/2000/svg\" height=\"24px\"viewBox=\"0 0 24 24\"\n",
       "       width=\"24px\">\n",
       "    <path d=\"M0 0h24v24H0V0z\" fill=\"none\"/>\n",
       "    <path d=\"M18.56 5.44l.94 2.06.94-2.06 2.06-.94-2.06-.94-.94-2.06-.94 2.06-2.06.94zm-11 1L8.5 8.5l.94-2.06 2.06-.94-2.06-.94L8.5 2.5l-.94 2.06-2.06.94zm10 10l.94 2.06.94-2.06 2.06-.94-2.06-.94-.94-2.06-.94 2.06-2.06.94z\"/><path d=\"M17.41 7.96l-1.37-1.37c-.4-.4-.92-.59-1.43-.59-.52 0-1.04.2-1.43.59L10.3 9.45l-7.72 7.72c-.78.78-.78 2.05 0 2.83L4 21.41c.39.39.9.59 1.41.59.51 0 1.02-.2 1.41-.59l7.78-7.78 2.81-2.81c.8-.78.8-2.07 0-2.86zM5.41 20L4 18.59l7.72-7.72 1.47 1.35L5.41 20z\"/>\n",
       "  </svg>\n",
       "      </button>\n",
       "      \n",
       "  <style>\n",
       "    .colab-df-container {\n",
       "      display:flex;\n",
       "      flex-wrap:wrap;\n",
       "      gap: 12px;\n",
       "    }\n",
       "\n",
       "    .colab-df-convert {\n",
       "      background-color: #E8F0FE;\n",
       "      border: none;\n",
       "      border-radius: 50%;\n",
       "      cursor: pointer;\n",
       "      display: none;\n",
       "      fill: #1967D2;\n",
       "      height: 32px;\n",
       "      padding: 0 0 0 0;\n",
       "      width: 32px;\n",
       "    }\n",
       "\n",
       "    .colab-df-convert:hover {\n",
       "      background-color: #E2EBFA;\n",
       "      box-shadow: 0px 1px 2px rgba(60, 64, 67, 0.3), 0px 1px 3px 1px rgba(60, 64, 67, 0.15);\n",
       "      fill: #174EA6;\n",
       "    }\n",
       "\n",
       "    [theme=dark] .colab-df-convert {\n",
       "      background-color: #3B4455;\n",
       "      fill: #D2E3FC;\n",
       "    }\n",
       "\n",
       "    [theme=dark] .colab-df-convert:hover {\n",
       "      background-color: #434B5C;\n",
       "      box-shadow: 0px 1px 3px 1px rgba(0, 0, 0, 0.15);\n",
       "      filter: drop-shadow(0px 1px 2px rgba(0, 0, 0, 0.3));\n",
       "      fill: #FFFFFF;\n",
       "    }\n",
       "  </style>\n",
       "\n",
       "      <script>\n",
       "        const buttonEl =\n",
       "          document.querySelector('#df-861b7c0f-a45d-47da-8191-699c81d38e1b button.colab-df-convert');\n",
       "        buttonEl.style.display =\n",
       "          google.colab.kernel.accessAllowed ? 'block' : 'none';\n",
       "\n",
       "        async function convertToInteractive(key) {\n",
       "          const element = document.querySelector('#df-861b7c0f-a45d-47da-8191-699c81d38e1b');\n",
       "          const dataTable =\n",
       "            await google.colab.kernel.invokeFunction('convertToInteractive',\n",
       "                                                     [key], {});\n",
       "          if (!dataTable) return;\n",
       "\n",
       "          const docLinkHtml = 'Like what you see? Visit the ' +\n",
       "            '<a target=\"_blank\" href=https://colab.research.google.com/notebooks/data_table.ipynb>data table notebook</a>'\n",
       "            + ' to learn more about interactive tables.';\n",
       "          element.innerHTML = '';\n",
       "          dataTable['output_type'] = 'display_data';\n",
       "          await google.colab.output.renderOutput(dataTable, element);\n",
       "          const docLink = document.createElement('div');\n",
       "          docLink.innerHTML = docLinkHtml;\n",
       "          element.appendChild(docLink);\n",
       "        }\n",
       "      </script>\n",
       "    </div>\n",
       "  </div>\n",
       "  "
      ],
      "text/plain": [
       "        breath_id   R   C  time_step       u_in  u_out   pressure\n",
       "0               1  20  50   0.000000   0.083334      0   5.837492\n",
       "1               1  20  50   0.033652  18.383041      0   5.907794\n",
       "2               1  20  50   0.067514  22.509278      0   7.876254\n",
       "3               1  20  50   0.101542  22.808822      0  11.742872\n",
       "4               1  20  50   0.135756  25.355850      0  12.234987\n",
       "...           ...  ..  ..        ...        ...    ...        ...\n",
       "149995       3073   5  10   2.411273   4.954332      1   6.259305\n",
       "149996       3073   5  10   2.443155   4.961062      1   6.259305\n",
       "149997       3073   5  10   2.475990   4.966957      1   6.118700\n",
       "149998       3073   5  10   2.507906   4.971831      1   6.329607\n",
       "149999       3073   5  10   2.539840   4.975988      1   6.048398\n",
       "\n",
       "[150000 rows x 7 columns]"
      ]
     },
     "execution_count": 18,
     "metadata": {},
     "output_type": "execute_result"
    }
   ],
   "source": [
    "sample_df"
   ]
  },
  {
   "cell_type": "markdown",
   "metadata": {
    "id": "70a4SGNiMPec"
   },
   "source": [
    "## Exploratory Data Analysis"
   ]
  },
  {
   "cell_type": "code",
   "execution_count": 19,
   "metadata": {
    "colab": {
     "base_uri": "https://localhost:8080/",
     "height": 379
    },
    "executionInfo": {
     "elapsed": 5,
     "status": "ok",
     "timestamp": 1673680094238,
     "user": {
      "displayName": "Rajesh P",
      "userId": "10767652069023223049"
     },
     "user_tz": -330
    },
    "id": "xxP-BaYfP8Ra",
    "outputId": "c4b06721-eb4f-4a54-80b8-c377ae3af4a4"
   },
   "outputs": [
    {
     "data": {
      "image/png": "[encoded data removed]",
      "text/plain": [
       "<Figure size 576x432 with 2 Axes>"
      ]
     },
     "metadata": {
      "needs_background": "light"
     },
     "output_type": "display_data"
    }
   ],
   "source": [
    "plt.figure(figsize = (8,6))\n",
    "sns.heatmap(sample_df.corr(),annot = True , cmap = 'Greens', linewidths = 0.5);"
   ]
  },
  {
   "cell_type": "markdown",
   "metadata": {
    "id": "0vn2TDAJQ3ph"
   },
   "source": [
    "The above graphs shows that there is negative correlation between the target column and time_step column and positive correlation between the target column and u_out column, target column and u_in column."
   ]
  },
  {
   "cell_type": "code",
   "execution_count": 20,
   "metadata": {
    "colab": {
     "base_uri": "https://localhost:8080/",
     "height": 405
    },
    "executionInfo": {
     "elapsed": 1324,
     "status": "ok",
     "timestamp": 1673680095558,
     "user": {
      "displayName": "Rajesh P",
      "userId": "10767652069023223049"
     },
     "user_tz": -330
    },
    "id": "9BVADXiUSRaI",
    "outputId": "8a390152-5503-435c-cc70-a4b551d9cfc9"
   },
   "outputs": [
    {
     "data": {
      "image/png": "[encoded data removed]",
      "text/plain": [
       "<Figure size 576x432 with 1 Axes>"
      ]
     },
     "metadata": {
      "needs_background": "light"
     },
     "output_type": "display_data"
    }
   ],
   "source": [
    "plt.figure(figsize = (8,6))\n",
    "plt.title('Distribution of time_step')\n",
    "sns.histplot(x = 'time_step',data = sample_df ,kde = True);"
   ]
  },
  {
   "cell_type": "markdown",
   "metadata": {
    "id": "mv4fq9KPSqhQ"
   },
   "source": [
    "The above graph shows that the time_step column is uniformly distributed."
   ]
  },
  {
   "cell_type": "code",
   "execution_count": 21,
   "metadata": {
    "colab": {
     "base_uri": "https://localhost:8080/",
     "height": 405
    },
    "executionInfo": {
     "elapsed": 4,
     "status": "ok",
     "timestamp": 1673680095558,
     "user": {
      "displayName": "Rajesh P",
      "userId": "10767652069023223049"
     },
     "user_tz": -330
    },
    "id": "xTn15JEeTPpd",
    "outputId": "edfdfd08-4758-4ffa-f161-0adc41205086"
   },
   "outputs": [
    {
     "data": {
      "image/png": "[encoded data removed]",
      "text/plain": [
       "<Figure size 576x432 with 1 Axes>"
      ]
     },
     "metadata": {
      "needs_background": "light"
     },
     "output_type": "display_data"
    }
   ],
   "source": [
    "plt.figure(figsize = (8,6))\n",
    "plt.title('Distribution of time_step')\n",
    "sns.histplot(x = 'u_in',data = sample_df ,bins = 100);"
   ]
  },
  {
   "cell_type": "markdown",
   "metadata": {
    "id": "YLb09lR0d7st"
   },
   "source": [
    "The u_in attribute is right skewed. About 70% of the data lies below 7."
   ]
  },
  {
   "cell_type": "code",
   "execution_count": 22,
   "metadata": {
    "colab": {
     "base_uri": "https://localhost:8080/",
     "height": 404
    },
    "executionInfo": {
     "elapsed": 1061,
     "status": "ok",
     "timestamp": 1673680096616,
     "user": {
      "displayName": "Rajesh P",
      "userId": "10767652069023223049"
     },
     "user_tz": -330
    },
    "id": "RvLU5yEHT_he",
    "outputId": "6f73c57b-87b4-4776-fc99-e1da125e1033"
   },
   "outputs": [
    {
     "data": {
      "image/png": "[encoded data removed]",
      "text/plain": [
       "<Figure size 576x432 with 1 Axes>"
      ]
     },
     "metadata": {
      "needs_background": "light"
     },
     "output_type": "display_data"
    }
   ],
   "source": [
    "plt.figure(figsize = (8,6))\n",
    "plt.title('Distribution of time_step')\n",
    "sns.histplot(x = 'pressure',data = sample_df );"
   ]
  },
  {
   "cell_type": "markdown",
   "metadata": {
    "id": "H61Z6L28UKWW"
   },
   "source": [
    "The graph shows that the target column is skewed.Most of the values lies in the ranget\n",
    " between 0 to 10."
   ]
  },
  {
   "cell_type": "code",
   "execution_count": 23,
   "metadata": {
    "colab": {
     "base_uri": "https://localhost:8080/",
     "height": 567
    },
    "executionInfo": {
     "elapsed": 1631,
     "status": "ok",
     "timestamp": 1673680098245,
     "user": {
      "displayName": "Rajesh P",
      "userId": "10767652069023223049"
     },
     "user_tz": -330
    },
    "id": "cLYOy6zOfLzE",
    "outputId": "74e6ec8d-1182-4b79-f97c-5b4a9e2d6e73"
   },
   "outputs": [
    {
     "data": {
      "image/png": "[encoded data removed]",
      "text/plain": [
       "<Figure size 864x576 with 9 Axes>"
      ]
     },
     "metadata": {
      "needs_background": "light"
     },
     "output_type": "display_data"
    }
   ],
   "source": [
    "fig , axes = plt.subplots( 3, 3 , figsize = (12,8))\n",
    "\n",
    "sns.countplot(x = 'u_out', data = sample_df ,ax = axes[0,0]);\n",
    "sns.countplot(x = 'u_out', data = sample_df , hue = 'C',ax = axes[0,1]);\n",
    "sns.countplot(x = 'u_out', data = sample_df , hue = 'R',ax = axes[0,2]);\n",
    "\n",
    "sns.countplot(x = 'u_out', data = sample_df ,ax = axes[1,0]);\n",
    "sns.countplot(x = 'C', data = sample_df , hue = 'u_out',ax = axes[1,1]);\n",
    "sns.countplot(x = 'C', data = sample_df , hue = 'R',ax = axes[1,2]);\n",
    "\n",
    "sns.countplot(x = 'u_out', data = sample_df ,ax = axes[2,0]);\n",
    "sns.countplot(x = 'R', data = sample_df , hue = 'u_out',ax = axes[2,1]);\n",
    "sns.countplot(x = 'R', data = sample_df , hue = 'C',ax = axes[2,2]);\n",
    "\n",
    "plt.tight_layout(pad = 2)\n"
   ]
  },
  {
   "cell_type": "code",
   "execution_count": 24,
   "metadata": {
    "colab": {
     "base_uri": "https://localhost:8080/",
     "height": 567
    },
    "executionInfo": {
     "elapsed": 19235,
     "status": "ok",
     "timestamp": 1673680117476,
     "user": {
      "displayName": "Rajesh P",
      "userId": "10767652069023223049"
     },
     "user_tz": -330
    },
    "id": "_OHijv56ihLI",
    "outputId": "0a194441-574f-4744-fbde-d59736ab5fce"
   },
   "outputs": [
    {
     "data": {
      "image/png": "[encoded data removed]",
      "text/plain": [
       "<Figure size 864x576 with 9 Axes>"
      ]
     },
     "metadata": {
      "needs_background": "light"
     },
     "output_type": "display_data"
    }
   ],
   "source": [
    "fig , axes = plt.subplots(3,3 , figsize = (12,8))\n",
    "\n",
    "sns.barplot(x = 'C', y = 'pressure' , data = sample_df , ax = axes[0,0]);\n",
    "sns.barplot(x = 'C', y = 'pressure' , data = sample_df , hue = 'R',ax = axes[0,1]);\n",
    "sns.barplot(x = 'C', y = 'pressure' , data = sample_df , hue = 'u_out', ax = axes[0,2]);\n",
    "\n",
    "sns.barplot(x = 'R', y = 'pressure' , data = sample_df , ax = axes[1,0]);\n",
    "sns.barplot(x = 'R', y = 'pressure' , data = sample_df , hue = 'C', ax = axes[1,1]);\n",
    "sns.barplot(x = 'R', y = 'pressure' , data = sample_df , hue = 'u_out', ax = axes[1,2]);\n",
    "\n",
    "sns.barplot(x = 'u_out', y = 'pressure' , data = sample_df , ax = axes[2,0]);\n",
    "sns.barplot(x = 'u_out', y = 'pressure' , data = sample_df , hue = 'C', ax = axes[2,1]);\n",
    "sns.barplot(x = 'u_out', y = 'pressure' , data = sample_df , hue = 'R', ax = axes[2,2]);\n",
    "\n",
    "plt.tight_layout(pad = 2)"
   ]
  },
  {
   "cell_type": "markdown",
   "metadata": {
    "id": "D7WMQ0BvKXj8"
   },
   "source": [
    "From the graph we can say that C and R are uniformly distributed. The feature u_out is right skewd.."
   ]
  },
  {
   "cell_type": "markdown",
   "metadata": {
    "id": "YQHveC8d7DUx"
   },
   "source": [
    "### Removing outliers"
   ]
  },
  {
   "cell_type": "markdown",
   "metadata": {
    "id": "2SltbaaaCKwy"
   },
   "source": [
    "In statistics, an outlier is a data point that differs significantly from other observations. An outlier may be due to variability in the measurement or it may indicate experimental error; the latter are sometimes excluded from the data set. An outlier can cause serious problems in statistical analyses."
   ]
  },
  {
   "cell_type": "code",
   "execution_count": 25,
   "metadata": {
    "colab": {
     "base_uri": "https://localhost:8080/",
     "height": 279
    },
    "executionInfo": {
     "elapsed": 764,
     "status": "ok",
     "timestamp": 1673680118237,
     "user": {
      "displayName": "Rajesh P",
      "userId": "10767652069023223049"
     },
     "user_tz": -330
    },
    "id": "OYgyJC-27DEh",
    "outputId": "1e8469e1-2fb9-41a3-ef0b-6e6ea9e57a30"
   },
   "outputs": [
    {
     "data": {
      "image/png": "[encoded data removed]",
      "text/plain": [
       "<Figure size 432x288 with 1 Axes>"
      ]
     },
     "metadata": {
      "needs_background": "light"
     },
     "output_type": "display_data"
    }
   ],
   "source": [
    "sns.histplot(x = 'pressure', data = sample_df);"
   ]
  },
  {
   "cell_type": "markdown",
   "metadata": {
    "id": "cWXOEeqM7CiS"
   },
   "source": [
    "It seems to be there are less number of records having pressure greater than 45 and lesser than 1. We can consider those records as outliers."
   ]
  },
  {
   "cell_type": "code",
   "execution_count": 26,
   "metadata": {
    "colab": {
     "base_uri": "https://localhost:8080/"
    },
    "executionInfo": {
     "elapsed": 7,
     "status": "ok",
     "timestamp": 1673680118238,
     "user": {
      "displayName": "Rajesh P",
      "userId": "10767652069023223049"
     },
     "user_tz": -330
    },
    "id": "SEz6R92q728I",
    "outputId": "b8bd1f6b-8fc5-4f61-f0b4-11ed2300dca2"
   },
   "outputs": [
    {
     "data": {
      "text/plain": [
       "1860"
      ]
     },
     "execution_count": 26,
     "metadata": {},
     "output_type": "execute_result"
    }
   ],
   "source": [
    "sample_df = sample_df[(sample_df['pressure']>1) & (sample_df['pressure']<45)]\n",
    "sample_df[sample_df['u_in']>70].shape[0]"
   ]
  },
  {
   "cell_type": "markdown",
   "metadata": {
    "id": "80bxAqFe9Twl"
   },
   "source": [
    "There are less number of records having 'u_in' greater than 70. So we can consider those as outliers and we can remove that."
   ]
  },
  {
   "cell_type": "code",
   "execution_count": 27,
   "metadata": {
    "executionInfo": {
     "elapsed": 4,
     "status": "ok",
     "timestamp": 1673680118238,
     "user": {
      "displayName": "Rajesh P",
      "userId": "10767652069023223049"
     },
     "user_tz": -330
    },
    "id": "v7GsePgM9uLV"
   },
   "outputs": [],
   "source": [
    "sample_df = sample_df[sample_df['u_in'] < 70]"
   ]
  },
  {
   "cell_type": "markdown",
   "metadata": {
    "id": "ukv2Zi3j-LRm"
   },
   "source": [
    "## Model training and Prediction"
   ]
  },
  {
   "cell_type": "markdown",
   "metadata": {
    "id": "eTQhcwSM-XPF"
   },
   "source": [
    "### Spliting the data for model training"
   ]
  },
  {
   "cell_type": "code",
   "execution_count": 28,
   "metadata": {
    "executionInfo": {
     "elapsed": 4,
     "status": "ok",
     "timestamp": 1673680118238,
     "user": {
      "displayName": "Rajesh P",
      "userId": "10767652069023223049"
     },
     "user_tz": -330
    },
    "id": "0GNVkfFcdgq-"
   },
   "outputs": [],
   "source": [
    "import sklearn"
   ]
  },
  {
   "cell_type": "code",
   "execution_count": 29,
   "metadata": {
    "executionInfo": {
     "elapsed": 4,
     "status": "ok",
     "timestamp": 1673680118238,
     "user": {
      "displayName": "Rajesh P",
      "userId": "10767652069023223049"
     },
     "user_tz": -330
    },
    "id": "Xzxct-Qw-nCy"
   },
   "outputs": [],
   "source": [
    "from sklearn.model_selection import train_test_split"
   ]
  },
  {
   "cell_type": "code",
   "execution_count": 30,
   "metadata": {
    "executionInfo": {
     "elapsed": 609,
     "status": "ok",
     "timestamp": 1673680118844,
     "user": {
      "displayName": "Rajesh P",
      "userId": "10767652069023223049"
     },
     "user_tz": -330
    },
    "id": "a84hUXRm-9Wj"
   },
   "outputs": [],
   "source": [
    "input_cols = sample_df.columns.to_list()[:-1]\n",
    "target_var = 'pressure'"
   ]
  },
  {
   "cell_type": "code",
   "execution_count": 31,
   "metadata": {
    "executionInfo": {
     "elapsed": 10,
     "status": "ok",
     "timestamp": 1673680118845,
     "user": {
      "displayName": "Rajesh P",
      "userId": "10767652069023223049"
     },
     "user_tz": -330
    },
    "id": "fe7rZV3r-nLU"
   },
   "outputs": [],
   "source": [
    "train_df , val_df , train_target , val_target = train_test_split(sample_df[input_cols],sample_df[target_var],random_state = 42 , test_size = 0.3)"
   ]
  },
  {
   "cell_type": "code",
   "execution_count": 32,
   "metadata": {
    "colab": {
     "base_uri": "https://localhost:8080/"
    },
    "executionInfo": {
     "elapsed": 10,
     "status": "ok",
     "timestamp": 1673680118845,
     "user": {
      "displayName": "Rajesh P",
      "userId": "10767652069023223049"
     },
     "user_tz": -330
    },
    "id": "NzIgWCEi_LHc",
    "outputId": "e7fd2951-d4dd-4ce0-e118-6dc8e51cbba5"
   },
   "outputs": [
    {
     "name": "stdout",
     "output_type": "stream",
     "text": [
      "Size of the train input data is (103253, 6)\n",
      "Size of the train target data is (103253,)\n",
      "Size of the test input data is (44252, 6)\n",
      "Size of the test target data is (44252,)\n"
     ]
    }
   ],
   "source": [
    "print(f'Size of the train input data is {train_df.shape}')\n",
    "print(f'Size of the train target data is {train_target.shape}')\n",
    "print(f'Size of the test input data is {val_df.shape}')\n",
    "print(f'Size of the test target data is {val_target.shape}')"
   ]
  },
  {
   "cell_type": "markdown",
   "metadata": {
    "id": "WcupTKGn_eba"
   },
   "source": [
    "### LinearRegression"
   ]
  },
  {
   "cell_type": "code",
   "execution_count": 33,
   "metadata": {
    "executionInfo": {
     "elapsed": 10,
     "status": "ok",
     "timestamp": 1673680118846,
     "user": {
      "displayName": "Rajesh P",
      "userId": "10767652069023223049"
     },
     "user_tz": -330
    },
    "id": "z0_tZf-xnbHM"
   },
   "outputs": [],
   "source": [
    "from sklearn.linear_model import LinearRegression"
   ]
  },
  {
   "cell_type": "code",
   "execution_count": 34,
   "metadata": {
    "executionInfo": {
     "elapsed": 10,
     "status": "ok",
     "timestamp": 1673680118846,
     "user": {
      "displayName": "Rajesh P",
      "userId": "10767652069023223049"
     },
     "user_tz": -330
    },
    "id": "DnPxsobj_vTD"
   },
   "outputs": [],
   "source": [
    "from sklearn.metrics import mean_squared_error"
   ]
  },
  {
   "cell_type": "code",
   "execution_count": 35,
   "metadata": {
    "executionInfo": {
     "elapsed": 10,
     "status": "ok",
     "timestamp": 1673680118846,
     "user": {
      "displayName": "Rajesh P",
      "userId": "10767652069023223049"
     },
     "user_tz": -330
    },
    "id": "_XjCQA08ovXj"
   },
   "outputs": [],
   "source": [
    "model1 = LinearRegression()"
   ]
  },
  {
   "cell_type": "code",
   "execution_count": 36,
   "metadata": {
    "colab": {
     "base_uri": "https://localhost:8080/"
    },
    "executionInfo": {
     "elapsed": 9,
     "status": "ok",
     "timestamp": 1673680118846,
     "user": {
      "displayName": "Rajesh P",
      "userId": "10767652069023223049"
     },
     "user_tz": -330
    },
    "id": "W2yDrQlzo1mL",
    "outputId": "b29af2f3-6a57-4140-d157-826c3eb89049"
   },
   "outputs": [
    {
     "data": {
      "text/plain": [
       "LinearRegression()"
      ]
     },
     "execution_count": 36,
     "metadata": {},
     "output_type": "execute_result"
    }
   ],
   "source": [
    "model1.fit(train_df,train_target)"
   ]
  },
  {
   "cell_type": "code",
   "execution_count": 37,
   "metadata": {
    "colab": {
     "base_uri": "https://localhost:8080/"
    },
    "executionInfo": {
     "elapsed": 7,
     "status": "ok",
     "timestamp": 1673680118846,
     "user": {
      "displayName": "Rajesh P",
      "userId": "10767652069023223049"
     },
     "user_tz": -330
    },
    "id": "qkeOcLS3pDrC",
    "outputId": "e65d7c23-89ea-4a85-84d2-a1244ef5555a"
   },
   "outputs": [
    {
     "name": "stdout",
     "output_type": "stream",
     "text": [
      "RMSE for the training set is 6.132 \n"
     ]
    }
   ],
   "source": [
    "pred = model1.predict(train_df)\n",
    "train_rmse = mean_squared_error(pred,train_target,squared = False)\n",
    "print(f'RMSE for the training set is {round(train_rmse,3)} ')"
   ]
  },
  {
   "cell_type": "code",
   "execution_count": 38,
   "metadata": {
    "colab": {
     "base_uri": "https://localhost:8080/"
    },
    "executionInfo": {
     "elapsed": 7,
     "status": "ok",
     "timestamp": 1673680118847,
     "user": {
      "displayName": "Rajesh P",
      "userId": "10767652069023223049"
     },
     "user_tz": -330
    },
    "id": "dDUrBt3BAIBC",
    "outputId": "ce80f7ce-92a9-44fa-9cc3-b285c312dc54"
   },
   "outputs": [
    {
     "name": "stdout",
     "output_type": "stream",
     "text": [
      "RMSE for the validation set is 6.151 \n"
     ]
    }
   ],
   "source": [
    "val_pred = model1.predict(val_df)\n",
    "val_rmse = mean_squared_error(val_pred,val_target,squared = False)\n",
    "print(f'RMSE for the validation set is {round(val_rmse,3)} ')"
   ]
  },
  {
   "cell_type": "code",
   "execution_count": 39,
   "metadata": {
    "colab": {
     "base_uri": "https://localhost:8080/"
    },
    "executionInfo": {
     "elapsed": 6,
     "status": "ok",
     "timestamp": 1673680118847,
     "user": {
      "displayName": "Rajesh P",
      "userId": "10767652069023223049"
     },
     "user_tz": -330
    },
    "id": "wg_8u5zkpX46",
    "outputId": "10143858-27de-4740-89ec-679f28a2a483"
   },
   "outputs": [
    {
     "name": "stdout",
     "output_type": "stream",
     "text": [
      "Training score for LinearRegression() is 39.5% \n",
      "Validation score of LinearRegression() is 39.4% \n"
     ]
    }
   ],
   "source": [
    "score = model1.score(train_df,train_target)\n",
    "val_score = model1.score(val_df,val_target)\n",
    "print(f'Training score for LinearRegression() is {round(score,3)*100}% ')\n",
    "print(f'Validation score of LinearRegression() is {round(val_score,3)*100}% ')"
   ]
  },
  {
   "cell_type": "markdown",
   "metadata": {
    "id": "L2zcKdazBoZg"
   },
   "source": [
    "From the above information we can conclude that LinearRegression is not a good model for this dataset.So we will try out different algorithms in the later stages."
   ]
  },
  {
   "cell_type": "markdown",
   "metadata": {
    "id": "eBniUjX7CzZW"
   },
   "source": [
    "### DecisionTreeRegressor\n"
   ]
  },
  {
   "cell_type": "code",
   "execution_count": 40,
   "metadata": {
    "executionInfo": {
     "elapsed": 583,
     "status": "ok",
     "timestamp": 1673680119425,
     "user": {
      "displayName": "Rajesh P",
      "userId": "10767652069023223049"
     },
     "user_tz": -330
    },
    "id": "DssUoEVPpz8q"
   },
   "outputs": [],
   "source": [
    "from sklearn.tree import DecisionTreeRegressor"
   ]
  },
  {
   "cell_type": "code",
   "execution_count": 41,
   "metadata": {
    "executionInfo": {
     "elapsed": 2,
     "status": "ok",
     "timestamp": 1673680119425,
     "user": {
      "displayName": "Rajesh P",
      "userId": "10767652069023223049"
     },
     "user_tz": -330
    },
    "id": "vbFgxqsrp9vi"
   },
   "outputs": [],
   "source": [
    "model2 = DecisionTreeRegressor(random_state=42)"
   ]
  },
  {
   "cell_type": "markdown",
   "metadata": {
    "id": "lRLvuagFC-rl"
   },
   "source": [
    "Training the model."
   ]
  },
  {
   "cell_type": "code",
   "execution_count": 42,
   "metadata": {
    "colab": {
     "base_uri": "https://localhost:8080/"
    },
    "executionInfo": {
     "elapsed": 562,
     "status": "ok",
     "timestamp": 1673680119985,
     "user": {
      "displayName": "Rajesh P",
      "userId": "10767652069023223049"
     },
     "user_tz": -330
    },
    "id": "aUG312JfqPpR",
    "outputId": "b2f171d3-52d5-49cf-8f08-91a4d2a7e932"
   },
   "outputs": [
    {
     "data": {
      "text/plain": [
       "DecisionTreeRegressor(random_state=42)"
      ]
     },
     "execution_count": 42,
     "metadata": {},
     "output_type": "execute_result"
    }
   ],
   "source": [
    "model2.fit(train_df,train_target)"
   ]
  },
  {
   "cell_type": "code",
   "execution_count": 43,
   "metadata": {
    "colab": {
     "base_uri": "https://localhost:8080/"
    },
    "executionInfo": {
     "elapsed": 7,
     "status": "ok",
     "timestamp": 1673680119985,
     "user": {
      "displayName": "Rajesh P",
      "userId": "10767652069023223049"
     },
     "user_tz": -330
    },
    "id": "xttfw-DUDEyN",
    "outputId": "624cf4c5-7c85-4b02-8924-dbe2545c9954"
   },
   "outputs": [
    {
     "name": "stdout",
     "output_type": "stream",
     "text": [
      "RMSE for the training set is 0.0 \n"
     ]
    }
   ],
   "source": [
    "pred = model2.predict(train_df)\n",
    "train_rmse = mean_squared_error(pred,train_target,squared = False)\n",
    "print(f'RMSE for the training set is {round(train_rmse,3)} ')"
   ]
  },
  {
   "cell_type": "code",
   "execution_count": 44,
   "metadata": {
    "colab": {
     "base_uri": "https://localhost:8080/"
    },
    "executionInfo": {
     "elapsed": 5,
     "status": "ok",
     "timestamp": 1673680119985,
     "user": {
      "displayName": "Rajesh P",
      "userId": "10767652069023223049"
     },
     "user_tz": -330
    },
    "id": "xxGxGcAsDESN",
    "outputId": "012c6898-f4cd-4496-9de8-f4bb72045e53"
   },
   "outputs": [
    {
     "name": "stdout",
     "output_type": "stream",
     "text": [
      "RMSE for the training set is 4.005 \n"
     ]
    }
   ],
   "source": [
    "val_rmse = mean_squared_error(model2.predict(val_df),val_target,squared = False)\n",
    "print(f'RMSE for the training set is {round(val_rmse,3)} ')"
   ]
  },
  {
   "cell_type": "code",
   "execution_count": 45,
   "metadata": {
    "colab": {
     "base_uri": "https://localhost:8080/"
    },
    "executionInfo": {
     "elapsed": 497,
     "status": "ok",
     "timestamp": 1673680120479,
     "user": {
      "displayName": "Rajesh P",
      "userId": "10767652069023223049"
     },
     "user_tz": -330
    },
    "id": "LMWcnZGgDD92",
    "outputId": "ddb3cda9-71d8-467e-a60e-f6df6a0ea3fa"
   },
   "outputs": [
    {
     "name": "stdout",
     "output_type": "stream",
     "text": [
      "Training score for DecisionTreeRegressor is 100.0% \n",
      "Validation score of DecisionTreeRegressor is 74.3% \n"
     ]
    }
   ],
   "source": [
    "score = model2.score(train_df,train_target)\n",
    "val_score = model2.score(val_df,val_target)\n",
    "print(f'Training score for DecisionTreeRegressor is {round(score,3)*100}% ')\n",
    "print(f'Validation score of DecisionTreeRegressor is {round(val_score,3)*100}% ')"
   ]
  },
  {
   "cell_type": "markdown",
   "metadata": {
    "id": "FaRBzffNHEBI"
   },
   "source": [
    "The above information says that DecisionTreeRegressor is far more better than LinearRegression"
   ]
  },
  {
   "cell_type": "code",
   "execution_count": 46,
   "metadata": {
    "executionInfo": {
     "elapsed": 496,
     "status": "ok",
     "timestamp": 1673680120479,
     "user": {
      "displayName": "Rajesh P",
      "userId": "10767652069023223049"
     },
     "user_tz": -330
    },
    "id": "zxYXklzQEq0T"
   },
   "outputs": [],
   "source": [
    "from sklearn.tree import plot_tree,export_text"
   ]
  },
  {
   "cell_type": "code",
   "execution_count": 47,
   "metadata": {
    "colab": {
     "base_uri": "https://localhost:8080/",
     "height": 752
    },
    "executionInfo": {
     "elapsed": 2464,
     "status": "ok",
     "timestamp": 1673680122941,
     "user": {
      "displayName": "Rajesh P",
      "userId": "10767652069023223049"
     },
     "user_tz": -330
    },
    "id": "0b1Xz0WdEqkL",
    "outputId": "ddf557e0-1adf-4fb7-e9e8-c1182b544ca4"
   },
   "outputs": [
    {
     "data": {
      "image/png": "[encoded data removed]",
      "text/plain": [
       "<Figure size 2160x1080 with 1 Axes>"
      ]
     },
     "metadata": {
      "needs_background": "light"
     },
     "output_type": "display_data"
    }
   ],
   "source": [
    "plt.figure(figsize = (30,15))\n",
    "plot_tree(model2,feature_names = train_df.columns.to_list(),max_depth = 3 ,filled = True,rounded = True);"
   ]
  },
  {
   "cell_type": "code",
   "execution_count": 48,
   "metadata": {
    "executionInfo": {
     "elapsed": 7,
     "status": "ok",
     "timestamp": 1673680122942,
     "user": {
      "displayName": "Rajesh P",
      "userId": "10767652069023223049"
     },
     "user_tz": -330
    },
    "id": "1ZapaQHvEpy7"
   },
   "outputs": [],
   "source": [
    "feature_importance = model2.feature_importances_\n",
    "feature_importance_df = pd.DataFrame({\n",
    "                                     'Feature' : train_df.columns,\n",
    "                                     'Importance' : feature_importance\n",
    "                                     }).sort_values('Importance',ascending = False)"
   ]
  },
  {
   "cell_type": "code",
   "execution_count": 49,
   "metadata": {
    "colab": {
     "base_uri": "https://localhost:8080/",
     "height": 279
    },
    "executionInfo": {
     "elapsed": 6,
     "status": "ok",
     "timestamp": 1673680122942,
     "user": {
      "displayName": "Rajesh P",
      "userId": "10767652069023223049"
     },
     "user_tz": -330
    },
    "id": "2k731WR4JFLb",
    "outputId": "cc5a452c-97a7-4e67-fb8f-23e4606e0556"
   },
   "outputs": [
    {
     "data": {
      "image/png": "[encoded data removed]",
      "text/plain": [
       "<Figure size 432x288 with 1 Axes>"
      ]
     },
     "metadata": {
      "needs_background": "light"
     },
     "output_type": "display_data"
    }
   ],
   "source": [
    "sns.barplot(x = 'Importance', y = 'Feature' , data = feature_importance_df);"
   ]
  },
  {
   "cell_type": "markdown",
   "metadata": {
    "id": "GrNY3LrXJUUM"
   },
   "source": [
    "The graph shows that time_step is the most importance feature among all of the features for predicting the ventilator pressure."
   ]
  },
  {
   "cell_type": "markdown",
   "metadata": {
    "id": "NTQEaCTOLBKR"
   },
   "source": [
    "#### Parameter Tuning"
   ]
  },
  {
   "cell_type": "code",
   "execution_count": 50,
   "metadata": {
    "executionInfo": {
     "elapsed": 6,
     "status": "ok",
     "timestamp": 1673680122942,
     "user": {
      "displayName": "Rajesh P",
      "userId": "10767652069023223049"
     },
     "user_tz": -330
    },
    "id": "NKaNJvOcKCwD"
   },
   "outputs": [],
   "source": [
    "def decisionTreeRegressor(X,y,**params):\n",
    "  model = DecisionTreeRegressor(random_state = 42,**params).fit(X,y)\n",
    "  train_error = 1 - model.score(X,y)\n",
    "  val_error = 1 - model.score(val_df,val_target)\n",
    "  return { 'train_error' :train_error , 'val_error' : val_error }"
   ]
  },
  {
   "cell_type": "code",
   "execution_count": 51,
   "metadata": {
    "executionInfo": {
     "elapsed": 31974,
     "status": "ok",
     "timestamp": 1673680154911,
     "user": {
      "displayName": "Rajesh P",
      "userId": "10767652069023223049"
     },
     "user_tz": -330
    },
    "id": "71q5l83kKEhK"
   },
   "outputs": [],
   "source": [
    "max_depth_error_df = pd.DataFrame([decisionTreeRegressor(train_df,train_target,max_depth = i) for i in range(1,40)])\n",
    "max_depth_error_df['max_depth'] = [i for i in range(1,40)]"
   ]
  },
  {
   "cell_type": "code",
   "execution_count": 52,
   "metadata": {
    "executionInfo": {
     "elapsed": 2,
     "status": "ok",
     "timestamp": 1673680154911,
     "user": {
      "displayName": "Rajesh P",
      "userId": "10767652069023223049"
     },
     "user_tz": -330
    },
    "id": "k5DTH4ewKEKD"
   },
   "outputs": [],
   "source": [
    "def error_plot(X,Y1,Y2):\n",
    "  plt.figure(figsize=(8,6))\n",
    "  plt.plot(X,Y1)\n",
    "  plt.plot(X,Y2)\n",
    "  plt.title('Training vs Validation error')\n",
    "  plt.legend(['Training error','Validation error'])\n",
    "  plt.show;\n"
   ]
  },
  {
   "cell_type": "code",
   "execution_count": 53,
   "metadata": {
    "colab": {
     "base_uri": "https://localhost:8080/",
     "height": 390
    },
    "executionInfo": {
     "elapsed": 845,
     "status": "ok",
     "timestamp": 1673680155754,
     "user": {
      "displayName": "Rajesh P",
      "userId": "10767652069023223049"
     },
     "user_tz": -330
    },
    "id": "Zq62-ySUG-LM",
    "outputId": "38fca7f9-faac-4c49-993e-e9d4a0ab184e"
   },
   "outputs": [
    {
     "data": {
      "image/png": "[encoded data removed]",
      "text/plain": [
       "<Figure size 576x432 with 1 Axes>"
      ]
     },
     "metadata": {
      "needs_background": "light"
     },
     "output_type": "display_data"
    }
   ],
   "source": [
    "error_plot(max_depth_error_df.max_depth,max_depth_error_df.train_error,max_depth_error_df.val_error)"
   ]
  },
  {
   "cell_type": "markdown",
   "metadata": {
    "id": "kEaJpORNL6Cm"
   },
   "source": [
    "Best value for parameter max_depth is 11."
   ]
  },
  {
   "cell_type": "code",
   "execution_count": 54,
   "metadata": {
    "executionInfo": {
     "elapsed": 11554,
     "status": "ok",
     "timestamp": 1673680167306,
     "user": {
      "displayName": "Rajesh P",
      "userId": "10767652069023223049"
     },
     "user_tz": -330
    },
    "id": "telowi2YIcL9"
   },
   "outputs": [],
   "source": [
    "min_samples_split_df = pd.DataFrame([decisionTreeRegressor(train_df,train_target,min_samples_split = i) for i in range(2,40,2)])\n",
    "min_samples_split_df['Min_samples_split'] = [ i for i in range(2,40,2)]"
   ]
  },
  {
   "cell_type": "code",
   "execution_count": 55,
   "metadata": {
    "colab": {
     "base_uri": "https://localhost:8080/",
     "height": 390
    },
    "executionInfo": {
     "elapsed": 805,
     "status": "ok",
     "timestamp": 1673680168102,
     "user": {
      "displayName": "Rajesh P",
      "userId": "10767652069023223049"
     },
     "user_tz": -330
    },
    "id": "ZhxR6MOwK4DP",
    "outputId": "704570d8-c886-443f-f5cd-cb7204d776fb"
   },
   "outputs": [
    {
     "data": {
      "image/png": "[encoded data removed]",
      "text/plain": [
       "<Figure size 576x432 with 1 Axes>"
      ]
     },
     "metadata": {
      "needs_background": "light"
     },
     "output_type": "display_data"
    }
   ],
   "source": [
    "error_plot(min_samples_split_df.Min_samples_split,min_samples_split_df.train_error,min_samples_split_df.val_error)"
   ]
  },
  {
   "cell_type": "markdown",
   "metadata": {
    "id": "Li4IzZvqMrA9"
   },
   "source": [
    "Best value for the parameter for min_samples_split is 20."
   ]
  },
  {
   "cell_type": "code",
   "execution_count": 56,
   "metadata": {
    "executionInfo": {
     "elapsed": 8,
     "status": "ok",
     "timestamp": 1673680168103,
     "user": {
      "displayName": "Rajesh P",
      "userId": "10767652069023223049"
     },
     "user_tz": -330
    },
    "id": "LjulBra_K4Tm"
   },
   "outputs": [],
   "source": [
    "good_model3 = DecisionTreeRegressor(random_state = 42, min_samples_split=20,max_depth=11)"
   ]
  },
  {
   "cell_type": "code",
   "execution_count": 57,
   "metadata": {
    "colab": {
     "base_uri": "https://localhost:8080/"
    },
    "executionInfo": {
     "elapsed": 7,
     "status": "ok",
     "timestamp": 1673680168103,
     "user": {
      "displayName": "Rajesh P",
      "userId": "10767652069023223049"
     },
     "user_tz": -330
    },
    "id": "4xYbh53nK4mI",
    "outputId": "a36438ce-e715-46f1-ad66-4f65c3de29a4"
   },
   "outputs": [
    {
     "data": {
      "text/plain": [
       "DecisionTreeRegressor(max_depth=11, min_samples_split=20, random_state=42)"
      ]
     },
     "execution_count": 57,
     "metadata": {},
     "output_type": "execute_result"
    }
   ],
   "source": [
    "good_model3.fit(train_df,train_target)"
   ]
  },
  {
   "cell_type": "code",
   "execution_count": 58,
   "metadata": {
    "colab": {
     "base_uri": "https://localhost:8080/"
    },
    "executionInfo": {
     "elapsed": 5,
     "status": "ok",
     "timestamp": 1673680168103,
     "user": {
      "displayName": "Rajesh P",
      "userId": "10767652069023223049"
     },
     "user_tz": -330
    },
    "id": "iBw42QLkNMFU",
    "outputId": "8c6493d3-9e67-4f5d-cea1-a72bb8a7426b"
   },
   "outputs": [
    {
     "name": "stdout",
     "output_type": "stream",
     "text": [
      "Training score for DecisionTreeRegressor is 78.7% \n",
      "Validation score of DecisionTreeRegressor is 74.9% \n"
     ]
    }
   ],
   "source": [
    "score = good_model3.score(train_df,train_target)\n",
    "val_score = good_model3.score(val_df,val_target)\n",
    "print(f'Training score for DecisionTreeRegressor is {round(score,3)*100}% ')\n",
    "print(f'Validation score of DecisionTreeRegressor is {round(val_score,3)*100}% ')"
   ]
  },
  {
   "cell_type": "markdown",
   "metadata": {
    "id": "XkY9B4VZNMHr"
   },
   "source": [
    "### RandomForestRegressor"
   ]
  },
  {
   "cell_type": "code",
   "execution_count": 59,
   "metadata": {
    "executionInfo": {
     "elapsed": 3,
     "status": "ok",
     "timestamp": 1673680168103,
     "user": {
      "displayName": "Rajesh P",
      "userId": "10767652069023223049"
     },
     "user_tz": -330
    },
    "id": "3Os6Clx5qtPY"
   },
   "outputs": [],
   "source": [
    "from sklearn.ensemble import RandomForestRegressor"
   ]
  },
  {
   "cell_type": "code",
   "execution_count": 60,
   "metadata": {
    "executionInfo": {
     "elapsed": 3,
     "status": "ok",
     "timestamp": 1673680168103,
     "user": {
      "displayName": "Rajesh P",
      "userId": "10767652069023223049"
     },
     "user_tz": -330
    },
    "id": "Vaw1oIicq1_Q"
   },
   "outputs": [],
   "source": [
    "model3 = RandomForestRegressor(n_jobs = -1, random_state = 42 )"
   ]
  },
  {
   "cell_type": "code",
   "execution_count": 61,
   "metadata": {
    "colab": {
     "base_uri": "https://localhost:8080/"
    },
    "executionInfo": {
     "elapsed": 32668,
     "status": "ok",
     "timestamp": 1673680200768,
     "user": {
      "displayName": "Rajesh P",
      "userId": "10767652069023223049"
     },
     "user_tz": -330
    },
    "id": "Fg9J081rq_No",
    "outputId": "9b151b25-09b0-44c5-939c-6a67b29d45d1"
   },
   "outputs": [
    {
     "data": {
      "text/plain": [
       "RandomForestRegressor(n_jobs=-1, random_state=42)"
      ]
     },
     "execution_count": 61,
     "metadata": {},
     "output_type": "execute_result"
    }
   ],
   "source": [
    "model3.fit(train_df,train_target)"
   ]
  },
  {
   "cell_type": "code",
   "execution_count": 62,
   "metadata": {
    "colab": {
     "base_uri": "https://localhost:8080/"
    },
    "executionInfo": {
     "elapsed": 3483,
     "status": "ok",
     "timestamp": 1673680204249,
     "user": {
      "displayName": "Rajesh P",
      "userId": "10767652069023223049"
     },
     "user_tz": -330
    },
    "id": "QnrcbdCCN-ij",
    "outputId": "8a30e44a-efe8-47b8-a0e4-e140dddf2870"
   },
   "outputs": [
    {
     "name": "stdout",
     "output_type": "stream",
     "text": [
      "RMSE for the training set is 1.138 \n"
     ]
    }
   ],
   "source": [
    "pred = model3.predict(train_df)\n",
    "train_rmse = mean_squared_error(pred,train_target,squared = False)\n",
    "print(f'RMSE for the training set is {round(train_rmse,3)} ')"
   ]
  },
  {
   "cell_type": "code",
   "execution_count": 63,
   "metadata": {
    "colab": {
     "base_uri": "https://localhost:8080/"
    },
    "executionInfo": {
     "elapsed": 1388,
     "status": "ok",
     "timestamp": 1673680205629,
     "user": {
      "displayName": "Rajesh P",
      "userId": "10767652069023223049"
     },
     "user_tz": -330
    },
    "id": "O_MmYRMzN-zC",
    "outputId": "69f6d667-7fc7-4a9b-bfdf-bead3891f796"
   },
   "outputs": [
    {
     "name": "stdout",
     "output_type": "stream",
     "text": [
      "RMSE for the training set is 3.061 \n"
     ]
    }
   ],
   "source": [
    "val_rmse = mean_squared_error(model3.predict(val_df),val_target,squared = False)\n",
    "print(f'RMSE for the training set is {round(val_rmse,3)} ')"
   ]
  },
  {
   "cell_type": "code",
   "execution_count": 64,
   "metadata": {
    "colab": {
     "base_uri": "https://localhost:8080/"
    },
    "executionInfo": {
     "elapsed": 5297,
     "status": "ok",
     "timestamp": 1673680210925,
     "user": {
      "displayName": "Rajesh P",
      "userId": "10767652069023223049"
     },
     "user_tz": -330
    },
    "id": "sfokZLH2rDzQ",
    "outputId": "03f6f70b-1eac-4d18-a965-3721712d8a65"
   },
   "outputs": [
    {
     "name": "stdout",
     "output_type": "stream",
     "text": [
      "Training score for DecisionTreeRegressor is 97.92% \n",
      "Validation score of DecisionTreeRegressor is 85.0% \n"
     ]
    }
   ],
   "source": [
    "score = model3.score(train_df,train_target)\n",
    "val_score = model3.score(val_df,val_target)\n",
    "print(f'Training score for DecisionTreeRegressor is {round(score,4)*100}% ')\n",
    "print(f'Validation score of DecisionTreeRegressor is {round(val_score,3)*100}% ')"
   ]
  },
  {
   "cell_type": "code",
   "execution_count": 65,
   "metadata": {
    "executionInfo": {
     "elapsed": 13,
     "status": "ok",
     "timestamp": 1673680210925,
     "user": {
      "displayName": "Rajesh P",
      "userId": "10767652069023223049"
     },
     "user_tz": -330
    },
    "id": "Vzw6N9xKyhJO"
   },
   "outputs": [],
   "source": [
    "def test_params(**params):\n",
    "    model = RandomForestRegressor(random_state=42, n_jobs=-1, **params).fit(train_df, train_target)\n",
    "    return model.score(train_df,train_target) , model.score(val_df,val_target)"
   ]
  },
  {
   "cell_type": "markdown",
   "metadata": {
    "id": "AF1GSWhlOnog"
   },
   "source": [
    "RandomForestRegressor seems to the best model among the previous models."
   ]
  },
  {
   "cell_type": "code",
   "execution_count": 66,
   "metadata": {
    "executionInfo": {
     "elapsed": 12,
     "status": "ok",
     "timestamp": 1673680210925,
     "user": {
      "displayName": "Rajesh P",
      "userId": "10767652069023223049"
     },
     "user_tz": -330
    },
    "id": "fYuRgNZBOnrO"
   },
   "outputs": [],
   "source": [
    "features = model3.feature_importances_\n",
    "features_df = pd.DataFrame({'Features':train_df.columns,\n",
    "                             'Importance':features}).sort_values('Importance',ascending = False)"
   ]
  },
  {
   "cell_type": "code",
   "execution_count": 67,
   "metadata": {
    "colab": {
     "base_uri": "https://localhost:8080/",
     "height": 279
    },
    "executionInfo": {
     "elapsed": 13,
     "status": "ok",
     "timestamp": 1673680210926,
     "user": {
      "displayName": "Rajesh P",
      "userId": "10767652069023223049"
     },
     "user_tz": -330
    },
    "id": "VFos4mIvOnt5",
    "outputId": "1c18c1e9-7979-492c-8b67-d2c3a1805987"
   },
   "outputs": [
    {
     "data": {
      "image/png": "[encoded data removed]",
      "text/plain": [
       "<Figure size 432x288 with 1 Axes>"
      ]
     },
     "metadata": {
      "needs_background": "light"
     },
     "output_type": "display_data"
    }
   ],
   "source": [
    "sns.barplot(x = 'Importance', y = 'Features', data = features_df);"
   ]
  },
  {
   "cell_type": "markdown",
   "metadata": {
    "id": "f_MRRxqJPtTR"
   },
   "source": [
    "time_step feature have greater on the RandomForestRegressor."
   ]
  },
  {
   "cell_type": "markdown",
   "metadata": {
    "id": "AaE5MYk6On2_"
   },
   "source": [
    "#### Parameter tuning"
   ]
  },
  {
   "cell_type": "code",
   "execution_count": 68,
   "metadata": {
    "executionInfo": {
     "elapsed": 12,
     "status": "ok",
     "timestamp": 1673680210926,
     "user": {
      "displayName": "Rajesh P",
      "userId": "10767652069023223049"
     },
     "user_tz": -330
    },
    "id": "vAFLelKmQHPF"
   },
   "outputs": [],
   "source": [
    "def test_params(**params):\n",
    "    model = RandomForestRegressor(random_state=42, n_jobs=-1, **params).fit(train_df, train_target)\n",
    "    train_rmse = mean_squared_error(model.predict(train_df), train_target, squared=False)\n",
    "    val_rmse = mean_squared_error(model.predict(val_df), val_target, squared=False)\n",
    "    return train_rmse, val_rmse"
   ]
  },
  {
   "cell_type": "code",
   "execution_count": 69,
   "metadata": {
    "executionInfo": {
     "elapsed": 12,
     "status": "ok",
     "timestamp": 1673680210926,
     "user": {
      "displayName": "Rajesh P",
      "userId": "10767652069023223049"
     },
     "user_tz": -330
    },
    "id": "c-N-ieBgQHRb"
   },
   "outputs": [],
   "source": [
    "def test_param_and_plot(param_name, param_values):\n",
    "    train_errors, val_errors = [], [] \n",
    "    for value in param_values:\n",
    "        params = {param_name: value}\n",
    "        train_rmse, val_rmse = test_params(**params)\n",
    "        train_errors.append(train_rmse)\n",
    "        val_errors.append(val_rmse)\n",
    "    plt.figure(figsize=(10,6))\n",
    "    plt.title('Overfitting curve: ' + param_name)\n",
    "    plt.plot(param_values, train_errors, 'b-o')\n",
    "    plt.plot(param_values, val_errors, 'r-o')\n",
    "    plt.xlabel(param_name)\n",
    "    plt.ylabel('RMSE')\n",
    "    plt.legend(['Training', 'Validation'])"
   ]
  },
  {
   "cell_type": "code",
   "execution_count": 70,
   "metadata": {
    "colab": {
     "base_uri": "https://localhost:8080/"
    },
    "executionInfo": {
     "elapsed": 58392,
     "status": "ok",
     "timestamp": 1673680269307,
     "user": {
      "displayName": "Rajesh P",
      "userId": "10767652069023223049"
     },
     "user_tz": -330
    },
    "id": "BP_2ZPZLQHUL",
    "outputId": "1dc43f6a-4e2b-4b14-a298-a9dcccd89a20"
   },
   "outputs": [
    {
     "data": {
      "text/plain": [
       "(1.1279415720209083, 3.052003267390944)"
      ]
     },
     "execution_count": 70,
     "metadata": {},
     "output_type": "execute_result"
    }
   ],
   "source": [
    "test_params(n_estimators = 150)"
   ]
  },
  {
   "cell_type": "code",
   "execution_count": 71,
   "metadata": {
    "colab": {
     "base_uri": "https://localhost:8080/",
     "height": 405
    },
    "executionInfo": {
     "elapsed": 193556,
     "status": "ok",
     "timestamp": 1673680462854,
     "user": {
      "displayName": "Rajesh P",
      "userId": "10767652069023223049"
     },
     "user_tz": -330
    },
    "id": "NCf-EpPCQHYT",
    "outputId": "da19c2f7-6ce5-459b-9688-a85f17fdedbb"
   },
   "outputs": [
    {
     "data": {
      "image/png": "[encoded data removed]",
      "text/plain": [
       "<Figure size 720x432 with 1 Axes>"
      ]
     },
     "metadata": {
      "needs_background": "light"
     },
     "output_type": "display_data"
    }
   ],
   "source": [
    "test_param_and_plot('n_estimators' , [50,100,150,200])"
   ]
  },
  {
   "cell_type": "markdown",
   "metadata": {
    "id": "QPwJAXjfR50D"
   },
   "source": [
    "n_estimators has no effect on this model. The change in the model's performance is significance."
   ]
  },
  {
   "cell_type": "markdown",
   "metadata": {
    "id": "i19RWw6WRnPI"
   },
   "source": [
    "Default parameters of RandomForestRegression predicts ventilator very well."
   ]
  },
  {
   "cell_type": "markdown",
   "metadata": {
    "id": "45Bh5qLSRpNe"
   },
   "source": [
    "### XGBRegressor"
   ]
  },
  {
   "cell_type": "code",
   "execution_count": 72,
   "metadata": {
    "executionInfo": {
     "elapsed": 4,
     "status": "ok",
     "timestamp": 1673680462854,
     "user": {
      "displayName": "Rajesh P",
      "userId": "10767652069023223049"
     },
     "user_tz": -330
    },
    "id": "yKHsqVFhrOxJ"
   },
   "outputs": [],
   "source": [
    "import xgboost"
   ]
  },
  {
   "cell_type": "code",
   "execution_count": 73,
   "metadata": {
    "executionInfo": {
     "elapsed": 4,
     "status": "ok",
     "timestamp": 1673680462855,
     "user": {
      "displayName": "Rajesh P",
      "userId": "10767652069023223049"
     },
     "user_tz": -330
    },
    "id": "4a8-Dlg7skdn"
   },
   "outputs": [],
   "source": [
    "from xgboost import XGBRegressor"
   ]
  },
  {
   "cell_type": "code",
   "execution_count": 74,
   "metadata": {
    "executionInfo": {
     "elapsed": 4,
     "status": "ok",
     "timestamp": 1673680462855,
     "user": {
      "displayName": "Rajesh P",
      "userId": "10767652069023223049"
     },
     "user_tz": -330
    },
    "id": "69v-f-UGspN3"
   },
   "outputs": [],
   "source": [
    "model4 = XGBRegressor(random_state = 42, n_jobs = -1)"
   ]
  },
  {
   "cell_type": "code",
   "execution_count": 75,
   "metadata": {
    "colab": {
     "base_uri": "https://localhost:8080/"
    },
    "executionInfo": {
     "elapsed": 4556,
     "status": "ok",
     "timestamp": 1673680467407,
     "user": {
      "displayName": "Rajesh P",
      "userId": "10767652069023223049"
     },
     "user_tz": -330
    },
    "id": "HBcDWZSxsxrv",
    "outputId": "c19d5424-84f9-4e1a-c53a-9720ba21c970"
   },
   "outputs": [
    {
     "name": "stdout",
     "output_type": "stream",
     "text": [
      "[07:14:24] WARNING: /workspace/src/objective/regression_obj.cu:152: reg:linear is now deprecated in favor of reg:squarederror.\n"
     ]
    },
    {
     "data": {
      "text/plain": [
       "XGBRegressor(n_jobs=-1, random_state=42)"
      ]
     },
     "execution_count": 75,
     "metadata": {},
     "output_type": "execute_result"
    }
   ],
   "source": [
    "model4.fit(train_df,train_target)"
   ]
  },
  {
   "cell_type": "code",
   "execution_count": 76,
   "metadata": {
    "colab": {
     "base_uri": "https://localhost:8080/"
    },
    "executionInfo": {
     "elapsed": 5,
     "status": "ok",
     "timestamp": 1673680467407,
     "user": {
      "displayName": "Rajesh P",
      "userId": "10767652069023223049"
     },
     "user_tz": -330
    },
    "id": "ep1VRXlQs2z_",
    "outputId": "edb765d7-6760-4c45-fa1d-aef24ceccb5f"
   },
   "outputs": [
    {
     "name": "stdout",
     "output_type": "stream",
     "text": [
      "RMSE for the training set is 4.117 \n"
     ]
    }
   ],
   "source": [
    "pred = model4.predict(train_df)\n",
    "train_rmse = mean_squared_error(pred,train_target,squared = False)\n",
    "print(f'RMSE for the training set is {round(train_rmse,3)} ')"
   ]
  },
  {
   "cell_type": "code",
   "execution_count": 77,
   "metadata": {
    "colab": {
     "base_uri": "https://localhost:8080/"
    },
    "executionInfo": {
     "elapsed": 4,
     "status": "ok",
     "timestamp": 1673680467407,
     "user": {
      "displayName": "Rajesh P",
      "userId": "10767652069023223049"
     },
     "user_tz": -330
    },
    "id": "l9eiQtKIs9V-",
    "outputId": "95435789-0dad-4d6b-e8ea-28f06651adf1"
   },
   "outputs": [
    {
     "name": "stdout",
     "output_type": "stream",
     "text": [
      "RMSE for the training set is 4.189 \n"
     ]
    }
   ],
   "source": [
    "val_rmse = mean_squared_error(model4.predict(val_df),val_target,squared = False)\n",
    "print(f'RMSE for the training set is {round(val_rmse,3)} ')"
   ]
  },
  {
   "cell_type": "code",
   "execution_count": 78,
   "metadata": {
    "colab": {
     "base_uri": "https://localhost:8080/"
    },
    "executionInfo": {
     "elapsed": 743,
     "status": "ok",
     "timestamp": 1673680468148,
     "user": {
      "displayName": "Rajesh P",
      "userId": "10767652069023223049"
     },
     "user_tz": -330
    },
    "id": "PIxaY4HHQVBl",
    "outputId": "5c3d598d-eaf4-43f6-aaa4-c370f1d9797e"
   },
   "outputs": [
    {
     "name": "stdout",
     "output_type": "stream",
     "text": [
      "Training score for DecisionTreeRegressor is 73.0% \n",
      "Validation score of DecisionTreeRegressor is 72.0% \n"
     ]
    }
   ],
   "source": [
    "score = model4.score(train_df,train_target)\n",
    "val_score = model4.score(val_df,val_target)\n",
    "print(f'Training score for DecisionTreeRegressor is {round(score,2)*100}% ')\n",
    "print(f'Validation score of DecisionTreeRegressor is {round(val_score,2)*100}% ')"
   ]
  },
  {
   "cell_type": "markdown",
   "metadata": {
    "id": "eKn_pfZGTFF-"
   },
   "source": [
    "#### Parameter tuning"
   ]
  },
  {
   "cell_type": "code",
   "execution_count": 79,
   "metadata": {
    "executionInfo": {
     "elapsed": 5,
     "status": "ok",
     "timestamp": 1673680468148,
     "user": {
      "displayName": "Rajesh P",
      "userId": "10767652069023223049"
     },
     "user_tz": -330
    },
    "id": "OLm1t3kyTIGQ"
   },
   "outputs": [],
   "source": [
    "def test_params_(**params):\n",
    "    model = XGBRegressor(random_state=42, n_jobs=-1, **params).fit(train_df, train_target)\n",
    "    train_rmse = mean_squared_error(model.predict(train_df), train_target, squared=False)\n",
    "    val_rmse = mean_squared_error(model.predict(val_df), val_target, squared=False)\n",
    "    return train_rmse, val_rmse"
   ]
  },
  {
   "cell_type": "code",
   "execution_count": 80,
   "metadata": {
    "executionInfo": {
     "elapsed": 4,
     "status": "ok",
     "timestamp": 1673680468148,
     "user": {
      "displayName": "Rajesh P",
      "userId": "10767652069023223049"
     },
     "user_tz": -330
    },
    "id": "6uu0Q45zTPRo"
   },
   "outputs": [],
   "source": [
    "def test_param_and_plot_(param_name, param_values):\n",
    "    train_errors, val_errors = [], [] \n",
    "    for value in param_values:\n",
    "        params = {param_name: value}\n",
    "        train_rmse, val_rmse = test_params_(**params)\n",
    "        train_errors.append(train_rmse)\n",
    "        val_errors.append(val_rmse)\n",
    "    plt.figure(figsize=(10,6))\n",
    "    plt.title('Overfitting curve: ' + param_name)\n",
    "    plt.plot(param_values, train_errors, 'b-o')\n",
    "    plt.plot(param_values, val_errors, 'r-o')\n",
    "    plt.xlabel(param_name)\n",
    "    plt.ylabel('RMSE')\n",
    "    plt.legend(['Training', 'Validation'])"
   ]
  },
  {
   "cell_type": "code",
   "execution_count": 81,
   "metadata": {
    "colab": {
     "base_uri": "https://localhost:8080/"
    },
    "executionInfo": {
     "elapsed": 67105,
     "status": "ok",
     "timestamp": 1673680535249,
     "user": {
      "displayName": "Rajesh P",
      "userId": "10767652069023223049"
     },
     "user_tz": -330
    },
    "id": "W_4nQyg0UECI",
    "outputId": "b34e8753-d707-46ec-e3de-8e88f0017e1b"
   },
   "outputs": [
    {
     "name": "stdout",
     "output_type": "stream",
     "text": [
      "[07:14:30] WARNING: /workspace/src/objective/regression_obj.cu:152: reg:linear is now deprecated in favor of reg:squarederror.\n"
     ]
    },
    {
     "data": {
      "text/plain": [
       "(3.320890823463479, 3.5177554272767324)"
      ]
     },
     "execution_count": 81,
     "metadata": {},
     "output_type": "execute_result"
    }
   ],
   "source": [
    "test_params_(n_estimators = 1500)"
   ]
  },
  {
   "cell_type": "code",
   "execution_count": 82,
   "metadata": {
    "executionInfo": {
     "elapsed": 11,
     "status": "ok",
     "timestamp": 1673680535250,
     "user": {
      "displayName": "Rajesh P",
      "userId": "10767652069023223049"
     },
     "user_tz": -330
    },
    "id": "fH9ZsfbSUQH4"
   },
   "outputs": [],
   "source": [
    "def test_params_(**params):\n",
    "    model = XGBRegressor(random_state=42, n_jobs=-1, **params).fit(train_df, train_target)\n",
    "    train_rmse = mean_squared_error(model.predict(train_df), train_target, squared=False)\n",
    "    val_rmse = mean_squared_error(model.predict(val_df), val_target, squared=False)\n",
    "    return {'Train_RMSE' : train_rmse , 'Val_RMSE' : val_rmse }"
   ]
  },
  {
   "cell_type": "code",
   "execution_count": 83,
   "metadata": {
    "colab": {
     "base_uri": "https://localhost:8080/"
    },
    "executionInfo": {
     "elapsed": 204823,
     "status": "ok",
     "timestamp": 1673680740063,
     "user": {
      "displayName": "Rajesh P",
      "userId": "10767652069023223049"
     },
     "user_tz": -330
    },
    "id": "VHQPHcy-Uu73",
    "outputId": "da74b1e1-5d7a-4257-c6f7-3417d44d11ae"
   },
   "outputs": [
    {
     "name": "stdout",
     "output_type": "stream",
     "text": [
      "[07:15:37] WARNING: /workspace/src/objective/regression_obj.cu:152: reg:linear is now deprecated in favor of reg:squarederror.\n",
      "[07:15:42] WARNING: /workspace/src/objective/regression_obj.cu:152: reg:linear is now deprecated in favor of reg:squarederror.\n",
      "[07:15:51] WARNING: /workspace/src/objective/regression_obj.cu:152: reg:linear is now deprecated in favor of reg:squarederror.\n",
      "[07:16:06] WARNING: /workspace/src/objective/regression_obj.cu:152: reg:linear is now deprecated in favor of reg:squarederror.\n",
      "[07:16:24] WARNING: /workspace/src/objective/regression_obj.cu:152: reg:linear is now deprecated in favor of reg:squarederror.\n",
      "[07:16:46] WARNING: /workspace/src/objective/regression_obj.cu:152: reg:linear is now deprecated in favor of reg:squarederror.\n",
      "[07:17:13] WARNING: /workspace/src/objective/regression_obj.cu:152: reg:linear is now deprecated in favor of reg:squarederror.\n",
      "[07:17:44] WARNING: /workspace/src/objective/regression_obj.cu:152: reg:linear is now deprecated in favor of reg:squarederror.\n",
      "[07:18:20] WARNING: /workspace/src/objective/regression_obj.cu:152: reg:linear is now deprecated in favor of reg:squarederror.\n"
     ]
    }
   ],
   "source": [
    "n_estimators_df = pd.DataFrame([test_params_(n_estimators = i) for i in range(100,1000,100)])\n",
    "n_estimators_df['n_estimators'] = [ i for i in range(100,1000,100)]"
   ]
  },
  {
   "cell_type": "code",
   "execution_count": 84,
   "metadata": {
    "colab": {
     "base_uri": "https://localhost:8080/",
     "height": 390
    },
    "executionInfo": {
     "elapsed": 4,
     "status": "ok",
     "timestamp": 1673680740063,
     "user": {
      "displayName": "Rajesh P",
      "userId": "10767652069023223049"
     },
     "user_tz": -330
    },
    "id": "cJBYZeVjVW0H",
    "outputId": "8aa70ccd-20b4-4ad7-9626-3e86bbcc6e4c"
   },
   "outputs": [
    {
     "data": {
      "image/png": "[encoded data removed]",
      "text/plain": [
       "<Figure size 576x432 with 1 Axes>"
      ]
     },
     "metadata": {
      "needs_background": "light"
     },
     "output_type": "display_data"
    }
   ],
   "source": [
    "error_plot(n_estimators_df.n_estimators,n_estimators_df.Train_RMSE,n_estimators_df.Val_RMSE)"
   ]
  },
  {
   "cell_type": "markdown",
   "metadata": {
    "id": "G0iCBlI0XFAl"
   },
   "source": [
    "n_estimators have big impact on the RMSE values.It seems like if we increase the n_estimators , it will minimize the RMSE values.Best value for n_estimators is 1500."
   ]
  },
  {
   "cell_type": "code",
   "execution_count": 85,
   "metadata": {
    "colab": {
     "base_uri": "https://localhost:8080/",
     "height": 474
    },
    "executionInfo": {
     "elapsed": 29415,
     "status": "ok",
     "timestamp": 1673680769475,
     "user": {
      "displayName": "Rajesh P",
      "userId": "10767652069023223049"
     },
     "user_tz": -330
    },
    "id": "dKkSiENhWZsX",
    "outputId": "56ad5edd-83b2-48f9-e03b-72f2eeff5edb"
   },
   "outputs": [
    {
     "name": "stdout",
     "output_type": "stream",
     "text": [
      "[07:19:02] WARNING: /workspace/src/objective/regression_obj.cu:152: reg:linear is now deprecated in favor of reg:squarederror.\n",
      "[07:19:05] WARNING: /workspace/src/objective/regression_obj.cu:152: reg:linear is now deprecated in favor of reg:squarederror.\n",
      "[07:19:11] WARNING: /workspace/src/objective/regression_obj.cu:152: reg:linear is now deprecated in favor of reg:squarederror.\n",
      "[07:19:20] WARNING: /workspace/src/objective/regression_obj.cu:152: reg:linear is now deprecated in favor of reg:squarederror.\n"
     ]
    },
    {
     "data": {
      "image/png": "[encoded data removed]",
      "text/plain": [
       "<Figure size 720x432 with 1 Axes>"
      ]
     },
     "metadata": {
      "needs_background": "light"
     },
     "output_type": "display_data"
    }
   ],
   "source": [
    "test_param_and_plot_('max_depth' , [ i for i in range(2,10,2)])"
   ]
  },
  {
   "cell_type": "markdown",
   "metadata": {
    "id": "JQcorZfial1O"
   },
   "source": [
    "max_depth doesn't have a significance change in the model accuracy."
   ]
  },
  {
   "cell_type": "code",
   "execution_count": 86,
   "metadata": {
    "colab": {
     "base_uri": "https://localhost:8080/",
     "height": 579
    },
    "executionInfo": {
     "elapsed": 46491,
     "status": "ok",
     "timestamp": 1673680815956,
     "user": {
      "displayName": "Rajesh P",
      "userId": "10767652069023223049"
     },
     "user_tz": -330
    },
    "id": "KjcXZtW4atpO",
    "outputId": "f5ec628c-163f-4b56-a971-b21d0f60c3d3"
   },
   "outputs": [
    {
     "name": "stdout",
     "output_type": "stream",
     "text": [
      "[07:19:31] WARNING: /workspace/src/objective/regression_obj.cu:152: reg:linear is now deprecated in favor of reg:squarederror.\n",
      "[07:19:36] WARNING: /workspace/src/objective/regression_obj.cu:152: reg:linear is now deprecated in favor of reg:squarederror.\n",
      "[07:19:41] WARNING: /workspace/src/objective/regression_obj.cu:152: reg:linear is now deprecated in favor of reg:squarederror.\n",
      "[07:19:45] WARNING: /workspace/src/objective/regression_obj.cu:152: reg:linear is now deprecated in favor of reg:squarederror.\n",
      "[07:19:50] WARNING: /workspace/src/objective/regression_obj.cu:152: reg:linear is now deprecated in favor of reg:squarederror.\n",
      "[07:19:54] WARNING: /workspace/src/objective/regression_obj.cu:152: reg:linear is now deprecated in favor of reg:squarederror.\n",
      "[07:19:59] WARNING: /workspace/src/objective/regression_obj.cu:152: reg:linear is now deprecated in favor of reg:squarederror.\n",
      "[07:20:04] WARNING: /workspace/src/objective/regression_obj.cu:152: reg:linear is now deprecated in favor of reg:squarederror.\n",
      "[07:20:08] WARNING: /workspace/src/objective/regression_obj.cu:152: reg:linear is now deprecated in favor of reg:squarederror.\n",
      "[07:20:13] WARNING: /workspace/src/objective/regression_obj.cu:152: reg:linear is now deprecated in favor of reg:squarederror.\n"
     ]
    },
    {
     "data": {
      "image/png": "[encoded data removed]",
      "text/plain": [
       "<Figure size 720x432 with 1 Axes>"
      ]
     },
     "metadata": {
      "needs_background": "light"
     },
     "output_type": "display_data"
    }
   ],
   "source": [
    "test_param_and_plot_('min_samples_split' , [ i for i in range(2,12,1)]);"
   ]
  },
  {
   "cell_type": "markdown",
   "metadata": {
    "id": "44Ljedyra6iD"
   },
   "source": [
    "Only n_estimators have big impact on the model accuracy."
   ]
  },
  {
   "cell_type": "code",
   "execution_count": 87,
   "metadata": {
    "executionInfo": {
     "elapsed": 4,
     "status": "ok",
     "timestamp": 1673680815956,
     "user": {
      "displayName": "Rajesh P",
      "userId": "10767652069023223049"
     },
     "user_tz": -330
    },
    "id": "pJJtPRixbceE"
   },
   "outputs": [],
   "source": [
    "good_model4 = XGBRegressor(n_jobs = -1 , n_estimators = 1500,random_state = 42)"
   ]
  },
  {
   "cell_type": "code",
   "execution_count": 88,
   "metadata": {
    "colab": {
     "base_uri": "https://localhost:8080/"
    },
    "executionInfo": {
     "elapsed": 62850,
     "status": "ok",
     "timestamp": 1673680878803,
     "user": {
      "displayName": "Rajesh P",
      "userId": "10767652069023223049"
     },
     "user_tz": -330
    },
    "id": "l47NcSdIboK7",
    "outputId": "1a2d3589-814e-48d0-a54a-8968387c49ab"
   },
   "outputs": [
    {
     "name": "stdout",
     "output_type": "stream",
     "text": [
      "[07:20:17] WARNING: /workspace/src/objective/regression_obj.cu:152: reg:linear is now deprecated in favor of reg:squarederror.\n"
     ]
    },
    {
     "data": {
      "text/plain": [
       "XGBRegressor(n_estimators=1500, n_jobs=-1, random_state=42)"
      ]
     },
     "execution_count": 88,
     "metadata": {},
     "output_type": "execute_result"
    }
   ],
   "source": [
    "good_model4.fit(train_df,train_target)"
   ]
  },
  {
   "cell_type": "code",
   "execution_count": 89,
   "metadata": {
    "colab": {
     "base_uri": "https://localhost:8080/"
    },
    "executionInfo": {
     "elapsed": 3404,
     "status": "ok",
     "timestamp": 1673680882199,
     "user": {
      "displayName": "Rajesh P",
      "userId": "10767652069023223049"
     },
     "user_tz": -330
    },
    "id": "_ixUZQ78bsvL",
    "outputId": "7d281680-de76-4211-f1f2-5c9d3db4ba14"
   },
   "outputs": [
    {
     "name": "stdout",
     "output_type": "stream",
     "text": [
      "RMSE for the training set is 3.321 \n"
     ]
    }
   ],
   "source": [
    "pred = good_model4.predict(train_df)\n",
    "train_rmse = mean_squared_error(pred,train_target,squared = False)\n",
    "print(f'RMSE for the training set is {round(train_rmse,3)} ')"
   ]
  },
  {
   "cell_type": "code",
   "execution_count": 90,
   "metadata": {
    "colab": {
     "base_uri": "https://localhost:8080/"
    },
    "executionInfo": {
     "elapsed": 1207,
     "status": "ok",
     "timestamp": 1673680883398,
     "user": {
      "displayName": "Rajesh P",
      "userId": "10767652069023223049"
     },
     "user_tz": -330
    },
    "id": "I-6YiupYcDpz",
    "outputId": "dcb301aa-6d0e-4939-a923-18d9e86d8146"
   },
   "outputs": [
    {
     "name": "stdout",
     "output_type": "stream",
     "text": [
      "RMSE for the training set is 3.518 \n"
     ]
    }
   ],
   "source": [
    "val_rmse = mean_squared_error(good_model4.predict(val_df),val_target,squared = False)\n",
    "print(f'RMSE for the training set is {round(val_rmse,3)} ')"
   ]
  },
  {
   "cell_type": "code",
   "execution_count": 91,
   "metadata": {
    "colab": {
     "base_uri": "https://localhost:8080/"
    },
    "executionInfo": {
     "elapsed": 3938,
     "status": "ok",
     "timestamp": 1673680887335,
     "user": {
      "displayName": "Rajesh P",
      "userId": "10767652069023223049"
     },
     "user_tz": -330
    },
    "id": "0EGeSkuNcJQr",
    "outputId": "a4334374-d04d-447a-ceb5-3ea340275fde"
   },
   "outputs": [
    {
     "name": "stdout",
     "output_type": "stream",
     "text": [
      "Training score for DecisionTreeRegressor is 82.0% \n",
      "Validation score of DecisionTreeRegressor is 72.0% \n"
     ]
    }
   ],
   "source": [
    "score = good_model4.score(train_df,train_target)\n",
    "val_score = model4.score(val_df,val_target)\n",
    "print(f'Training score for DecisionTreeRegressor is {round(score,2)*100}% ')\n",
    "print(f'Validation score of DecisionTreeRegressor is {round(val_score,2)*100}% ')"
   ]
  },
  {
   "cell_type": "markdown",
   "metadata": {
    "id": "sMLaQE5MK7Kd"
   },
   "source": [
    "#### Prediction on the test set"
   ]
  },
  {
   "cell_type": "markdown",
   "metadata": {
    "id": "XoL0m19QLX2K"
   },
   "source": [
    "We are going to predict the test set using RandomForestRegressor. Because so far it seems to be the best model for this dataset."
   ]
  },
  {
   "cell_type": "code",
   "execution_count": 92,
   "metadata": {
    "executionInfo": {
     "elapsed": 3106,
     "status": "ok",
     "timestamp": 1673680890432,
     "user": {
      "displayName": "Rajesh P",
      "userId": "10767652069023223049"
     },
     "user_tz": -330
    },
    "id": "BGo9ThDUfWjp"
   },
   "outputs": [],
   "source": [
    "test_df = pd.read_csv('./ventilator-pressure-prediction/test.csv')"
   ]
  },
  {
   "cell_type": "code",
   "execution_count": 96,
   "metadata": {
    "executionInfo": {
     "elapsed": 491,
     "status": "ok",
     "timestamp": 1673681257169,
     "user": {
      "displayName": "Rajesh P",
      "userId": "10767652069023223049"
     },
     "user_tz": -330
    },
    "id": "LLZz1d28gKJB"
   },
   "outputs": [],
   "source": [
    "test_df.drop('id',axis = 1, inplace = True)"
   ]
  },
  {
   "cell_type": "code",
   "execution_count": 107,
   "metadata": {
    "executionInfo": {
     "elapsed": 919,
     "status": "ok",
     "timestamp": 1673682277181,
     "user": {
      "displayName": "Rajesh P",
      "userId": "10767652069023223049"
     },
     "user_tz": -330
    },
    "id": "iPb0reFON96b"
   },
   "outputs": [],
   "source": [
    "sample_submission = pd.read_csv('./ventilator-pressure-prediction/sample_submission.csv')"
   ]
  },
  {
   "cell_type": "code",
   "execution_count": 109,
   "metadata": {
    "executionInfo": {
     "elapsed": 2,
     "status": "ok",
     "timestamp": 1673682299882,
     "user": {
      "displayName": "Rajesh P",
      "userId": "10767652069023223049"
     },
     "user_tz": -330
    },
    "id": "PZ5fRzT8OWfD"
   },
   "outputs": [],
   "source": [
    "def predict_and_submit(model,fname):\n",
    "  test_pred = model.predict(test_df)\n",
    "  sub_df = pd.read_csv('./ventilator-pressure-prediction/sample_submission.csv')\n",
    "  sub_df['pressure'] = test_pred\n",
    "  sub_df.to_csv(fname,index = None)\n",
    "  return sub_df"
   ]
  },
  {
   "cell_type": "code",
   "execution_count": 110,
   "metadata": {
    "colab": {
     "base_uri": "https://localhost:8080/",
     "height": 424
    },
    "executionInfo": {
     "elapsed": 67877,
     "status": "ok",
     "timestamp": 1673682437437,
     "user": {
      "displayName": "Rajesh P",
      "userId": "10767652069023223049"
     },
     "user_tz": -330
    },
    "id": "EmkBCVnuO_Ci",
    "outputId": "f79295b3-96a7-4848-b878-a2122457189c"
   },
   "outputs": [
    {
     "data": {
      "text/html": [
       "\n",
       "  <div id=\"df-39651ded-8257-4381-be9b-ca5432159881\">\n",
       "    <div class=\"colab-df-container\">\n",
       "      <div>\n",
       "<style scoped>\n",
       "    .dataframe tbody tr th:only-of-type {\n",
       "        vertical-align: middle;\n",
       "    }\n",
       "\n",
       "    .dataframe tbody tr th {\n",
       "        vertical-align: top;\n",
       "    }\n",
       "\n",
       "    .dataframe thead th {\n",
       "        text-align: right;\n",
       "    }\n",
       "</style>\n",
       "<table border=\"1\" class=\"dataframe\">\n",
       "  <thead>\n",
       "    <tr style=\"text-align: right;\">\n",
       "      <th></th>\n",
       "      <th>id</th>\n",
       "      <th>pressure</th>\n",
       "    </tr>\n",
       "  </thead>\n",
       "  <tbody>\n",
       "    <tr>\n",
       "      <th>0</th>\n",
       "      <td>1</td>\n",
       "      <td>6.141197</td>\n",
       "    </tr>\n",
       "    <tr>\n",
       "      <th>1</th>\n",
       "      <td>2</td>\n",
       "      <td>5.905685</td>\n",
       "    </tr>\n",
       "    <tr>\n",
       "      <th>2</th>\n",
       "      <td>3</td>\n",
       "      <td>7.429132</td>\n",
       "    </tr>\n",
       "    <tr>\n",
       "      <th>3</th>\n",
       "      <td>4</td>\n",
       "      <td>7.701202</td>\n",
       "    </tr>\n",
       "    <tr>\n",
       "      <th>4</th>\n",
       "      <td>5</td>\n",
       "      <td>10.064057</td>\n",
       "    </tr>\n",
       "    <tr>\n",
       "      <th>...</th>\n",
       "      <td>...</td>\n",
       "      <td>...</td>\n",
       "    </tr>\n",
       "    <tr>\n",
       "      <th>4023995</th>\n",
       "      <td>4023996</td>\n",
       "      <td>6.162288</td>\n",
       "    </tr>\n",
       "    <tr>\n",
       "      <th>4023996</th>\n",
       "      <td>4023997</td>\n",
       "      <td>6.172130</td>\n",
       "    </tr>\n",
       "    <tr>\n",
       "      <th>4023997</th>\n",
       "      <td>4023998</td>\n",
       "      <td>6.264929</td>\n",
       "    </tr>\n",
       "    <tr>\n",
       "      <th>4023998</th>\n",
       "      <td>4023999</td>\n",
       "      <td>6.180566</td>\n",
       "    </tr>\n",
       "    <tr>\n",
       "      <th>4023999</th>\n",
       "      <td>4024000</td>\n",
       "      <td>6.148930</td>\n",
       "    </tr>\n",
       "  </tbody>\n",
       "</table>\n",
       "<p>4024000 rows × 2 columns</p>\n",
       "</div>\n",
       "      <button class=\"colab-df-convert\" onclick=\"convertToInteractive('df-39651ded-8257-4381-be9b-ca5432159881')\"\n",
       "              title=\"Convert this dataframe to an interactive table.\"\n",
       "              style=\"display:none;\">\n",
       "        \n",
       "  <svg xmlns=\"http://www.w3.org/2000/svg\" height=\"24px\"viewBox=\"0 0 24 24\"\n",
       "       width=\"24px\">\n",
       "    <path d=\"M0 0h24v24H0V0z\" fill=\"none\"/>\n",
       "    <path d=\"M18.56 5.44l.94 2.06.94-2.06 2.06-.94-2.06-.94-.94-2.06-.94 2.06-2.06.94zm-11 1L8.5 8.5l.94-2.06 2.06-.94-2.06-.94L8.5 2.5l-.94 2.06-2.06.94zm10 10l.94 2.06.94-2.06 2.06-.94-2.06-.94-.94-2.06-.94 2.06-2.06.94z\"/><path d=\"M17.41 7.96l-1.37-1.37c-.4-.4-.92-.59-1.43-.59-.52 0-1.04.2-1.43.59L10.3 9.45l-7.72 7.72c-.78.78-.78 2.05 0 2.83L4 21.41c.39.39.9.59 1.41.59.51 0 1.02-.2 1.41-.59l7.78-7.78 2.81-2.81c.8-.78.8-2.07 0-2.86zM5.41 20L4 18.59l7.72-7.72 1.47 1.35L5.41 20z\"/>\n",
       "  </svg>\n",
       "      </button>\n",
       "      \n",
       "  <style>\n",
       "    .colab-df-container {\n",
       "      display:flex;\n",
       "      flex-wrap:wrap;\n",
       "      gap: 12px;\n",
       "    }\n",
       "\n",
       "    .colab-df-convert {\n",
       "      background-color: #E8F0FE;\n",
       "      border: none;\n",
       "      border-radius: 50%;\n",
       "      cursor: pointer;\n",
       "      display: none;\n",
       "      fill: #1967D2;\n",
       "      height: 32px;\n",
       "      padding: 0 0 0 0;\n",
       "      width: 32px;\n",
       "    }\n",
       "\n",
       "    .colab-df-convert:hover {\n",
       "      background-color: #E2EBFA;\n",
       "      box-shadow: 0px 1px 2px rgba(60, 64, 67, 0.3), 0px 1px 3px 1px rgba(60, 64, 67, 0.15);\n",
       "      fill: #174EA6;\n",
       "    }\n",
       "\n",
       "    [theme=dark] .colab-df-convert {\n",
       "      background-color: #3B4455;\n",
       "      fill: #D2E3FC;\n",
       "    }\n",
       "\n",
       "    [theme=dark] .colab-df-convert:hover {\n",
       "      background-color: #434B5C;\n",
       "      box-shadow: 0px 1px 3px 1px rgba(0, 0, 0, 0.15);\n",
       "      filter: drop-shadow(0px 1px 2px rgba(0, 0, 0, 0.3));\n",
       "      fill: #FFFFFF;\n",
       "    }\n",
       "  </style>\n",
       "\n",
       "      <script>\n",
       "        const buttonEl =\n",
       "          document.querySelector('#df-39651ded-8257-4381-be9b-ca5432159881 button.colab-df-convert');\n",
       "        buttonEl.style.display =\n",
       "          google.colab.kernel.accessAllowed ? 'block' : 'none';\n",
       "\n",
       "        async function convertToInteractive(key) {\n",
       "          const element = document.querySelector('#df-39651ded-8257-4381-be9b-ca5432159881');\n",
       "          const dataTable =\n",
       "            await google.colab.kernel.invokeFunction('convertToInteractive',\n",
       "                                                     [key], {});\n",
       "          if (!dataTable) return;\n",
       "\n",
       "          const docLinkHtml = 'Like what you see? Visit the ' +\n",
       "            '<a target=\"_blank\" href=https://colab.research.google.com/notebooks/data_table.ipynb>data table notebook</a>'\n",
       "            + ' to learn more about interactive tables.';\n",
       "          element.innerHTML = '';\n",
       "          dataTable['output_type'] = 'display_data';\n",
       "          await google.colab.output.renderOutput(dataTable, element);\n",
       "          const docLink = document.createElement('div');\n",
       "          docLink.innerHTML = docLinkHtml;\n",
       "          element.appendChild(docLink);\n",
       "        }\n",
       "      </script>\n",
       "    </div>\n",
       "  </div>\n",
       "  "
      ],
      "text/plain": [
       "              id   pressure\n",
       "0              1   6.141197\n",
       "1              2   5.905685\n",
       "2              3   7.429132\n",
       "3              4   7.701202\n",
       "4              5  10.064057\n",
       "...          ...        ...\n",
       "4023995  4023996   6.162288\n",
       "4023996  4023997   6.172130\n",
       "4023997  4023998   6.264929\n",
       "4023998  4023999   6.180566\n",
       "4023999  4024000   6.148930\n",
       "\n",
       "[4024000 rows x 2 columns]"
      ]
     },
     "execution_count": 110,
     "metadata": {},
     "output_type": "execute_result"
    }
   ],
   "source": [
    "predict_and_submit(model3,'RandomForestRegressor.csv')"
   ]
  },
  {
   "cell_type": "markdown",
   "metadata": {
    "id": "KOUjoCP3Pjd5"
   },
   "source": [
    "### Prediction on the new input"
   ]
  },
  {
   "cell_type": "code",
   "execution_count": 112,
   "metadata": {
    "executionInfo": {
     "elapsed": 488,
     "status": "ok",
     "timestamp": 1673682727753,
     "user": {
      "displayName": "Rajesh P",
      "userId": "10767652069023223049"
     },
     "user_tz": -330
    },
    "id": "x7HIb4EJQZwn"
   },
   "outputs": [],
   "source": [
    "new_input = pd.DataFrame({'breath_id' : 3058 , \n",
    "                          'R' : 50 ,\n",
    "                          'C' : 20 , \n",
    "                          'time_step' :  2.281302 , \n",
    "                          'u_in' : 11.857321 , \n",
    "                          'u_out' : 1 \n",
    "    \n",
    "                         } , index = [0])"
   ]
  },
  {
   "cell_type": "code",
   "execution_count": 113,
   "metadata": {
    "colab": {
     "base_uri": "https://localhost:8080/"
    },
    "executionInfo": {
     "elapsed": 730,
     "status": "ok",
     "timestamp": 1673682738546,
     "user": {
      "displayName": "Rajesh P",
      "userId": "10767652069023223049"
     },
     "user_tz": -330
    },
    "id": "3CCrvk6oQ6lp",
    "outputId": "32bc63a2-3c8a-4e16-bdc6-c3f30e0593f3"
   },
   "outputs": [
    {
     "data": {
      "text/plain": [
       "array([6.76548003])"
      ]
     },
     "execution_count": 113,
     "metadata": {},
     "output_type": "execute_result"
    }
   ],
   "source": [
    "model3.predict(new_input)"
   ]
  },
  {
   "cell_type": "markdown",
   "metadata": {
    "id": "-16CKvtXRA5G"
   },
   "source": [
    "The model predict 6.765 as the pressure of the ventilator."
   ]
  },
  {
   "cell_type": "markdown",
   "metadata": {
    "id": "a7W3YR1_RaoA"
   },
   "source": [
    "### Saving and loading the train_model"
   ]
  },
  {
   "cell_type": "code",
   "execution_count": 116,
   "metadata": {
    "executionInfo": {
     "elapsed": 1,
     "status": "ok",
     "timestamp": 1673682976634,
     "user": {
      "displayName": "Rajesh P",
      "userId": "10767652069023223049"
     },
     "user_tz": -330
    },
    "id": "2aTsdztoR2R2"
   },
   "outputs": [],
   "source": [
    "import joblib"
   ]
  },
  {
   "cell_type": "code",
   "execution_count": 117,
   "metadata": {
    "executionInfo": {
     "elapsed": 2,
     "status": "ok",
     "timestamp": 1673683079225,
     "user": {
      "displayName": "Rajesh P",
      "userId": "10767652069023223049"
     },
     "user_tz": -330
    },
    "id": "K8R-zoDrR3co"
   },
   "outputs": [],
   "source": [
    "best_model = { \n",
    "                          'model' : model3,\n",
    "                          'input_cols' : input_cols,\n",
    "                          'target_col' : target_var\n",
    "                         }\n",
    "                          "
   ]
  },
  {
   "cell_type": "code",
   "execution_count": 118,
   "metadata": {
    "colab": {
     "base_uri": "https://localhost:8080/"
    },
    "executionInfo": {
     "elapsed": 3347,
     "status": "ok",
     "timestamp": 1673683427242,
     "user": {
      "displayName": "Rajesh P",
      "userId": "10767652069023223049"
     },
     "user_tz": -330
    },
    "id": "NiiFbezbSQsn",
    "outputId": "51bff190-f357-416a-e38d-f18b827dd1b1"
   },
   "outputs": [
    {
     "data": {
      "text/plain": [
       "['RandomForestRegressor.joblib']"
      ]
     },
     "execution_count": 118,
     "metadata": {},
     "output_type": "execute_result"
    }
   ],
   "source": [
    "joblib.dump(best_model , 'RandomForestRegressor.joblib')"
   ]
  },
  {
   "cell_type": "code",
   "execution_count": 121,
   "metadata": {
    "executionInfo": {
     "elapsed": 2534,
     "status": "ok",
     "timestamp": 1673683530551,
     "user": {
      "displayName": "Rajesh P",
      "userId": "10767652069023223049"
     },
     "user_tz": -330
    },
    "id": "shZ6qxaATkcz"
   },
   "outputs": [],
   "source": [
    "RandomForestRegressor_ = joblib.load('RandomForestRegressor.joblib')"
   ]
  },
  {
   "cell_type": "code",
   "execution_count": 124,
   "metadata": {
    "colab": {
     "base_uri": "https://localhost:8080/"
    },
    "executionInfo": {
     "elapsed": 2446,
     "status": "ok",
     "timestamp": 1673683571142,
     "user": {
      "displayName": "Rajesh P",
      "userId": "10767652069023223049"
     },
     "user_tz": -330
    },
    "id": "qmSS4UB5TyBL",
    "outputId": "4f4a593a-ea39-4106-e079-19a35d965c00"
   },
   "outputs": [
    {
     "data": {
      "text/plain": [
       "0.8499407842170842"
      ]
     },
     "execution_count": 124,
     "metadata": {},
     "output_type": "execute_result"
    }
   ],
   "source": [
    "RandomForestRegressor_['model'].score(val_df,val_target)"
   ]
  },
  {
   "cell_type": "markdown",
   "metadata": {
    "id": "B68MsxdXT36_"
   },
   "source": [
    "### Summary and References"
   ]
  },
  {
   "cell_type": "markdown",
   "metadata": {
    "id": "qBEJntLCUYH3"
   },
   "source": [
    "The following model are trained to predict the pressure of the ventilator.\n",
    "- 1. LinearRegresson() 2. DecisionTreeRegressor() 3. RandomForestRegressor() 4. XGBRegressor()\n",
    "- The dataset used in this project can be downloaded from the following link  https://www.kaggle.com/competitions/ventilator-pressure-prediction/data?select=train.csv\n"
   ]
  },
  {
   "cell_type": "code",
   "execution_count": null,
   "metadata": {
    "id": "VLHOjVciUsTe"
   },
   "outputs": [],
   "source": []
  }
 ],
 "metadata": {
  "colab": {
   "provenance": []
  },
  "language_info": {
   "codemirror_mode": {
    "name": "ipython",
    "version": 3
   },
   "file_extension": ".py",
   "mimetype": "text/x-python",
   "name": "python",
   "nbconvert_exporter": "python",
   "pygments_lexer": "ipython3",
   "version": "3.9.7"
  }
 },
 "nbformat": 4,
 "nbformat_minor": 1
}