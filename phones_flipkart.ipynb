{
  "nbformat": 4,
  "nbformat_minor": 0,
  "metadata": {
    "colab": {
      "provenance": [],
      "toc_visible": true
    },
    "kernelspec": {
      "name": "python3",
      "display_name": "Python 3"
    },
    "language_info": {
      "name": "python"
    }
  },
  "cells": [
    {
      "cell_type": "code",
      "execution_count": null,
      "metadata": {
        "id": "ZiuJouiQW67e"
      },
      "outputs": [],
      "source": [
        "from bs4 import BeautifulSoup as bs\n",
        "import requests"
      ]
    },
    {
      "cell_type": "code",
      "source": [
        "url = 'https://www.flipkart.com/search?q=mobiles&otracker=search&otracker1=search&marketplace=FLIPKART&as-show=on&as=off'"
      ],
      "metadata": {
        "id": "Ls5fO4uWXIgt"
      },
      "execution_count": null,
      "outputs": []
    },
    {
      "cell_type": "code",
      "source": [
        "content = requests.get(url).text"
      ],
      "metadata": {
        "id": "XgVR3MMsYM07"
      },
      "execution_count": null,
      "outputs": []
    },
    {
      "cell_type": "code",
      "source": [
        "soup = bs(content, 'lxml')"
      ],
      "metadata": {
        "id": "DTvTHhKQYUdD"
      },
      "execution_count": null,
      "outputs": []
    },
    {
      "cell_type": "code",
      "source": [
        "body = soup.find('body')"
      ],
      "metadata": {
        "id": "nC4L0GepYYtD"
      },
      "execution_count": null,
      "outputs": []
    },
    {
      "cell_type": "code",
      "source": [
        "source = body.find('div', class_ = '_1YokD2 _3Mn1Gg')"
      ],
      "metadata": {
        "id": "Z2U62PgAYyGe"
      },
      "execution_count": null,
      "outputs": []
    },
    {
      "cell_type": "code",
      "source": [
        "_classes_ = source.find_all('div' , class_ = '_1AtVbE col-12-12')"
      ],
      "metadata": {
        "id": "WCCY8az5YnHD"
      },
      "execution_count": null,
      "outputs": []
    },
    {
      "cell_type": "code",
      "source": [
        "spec1 = ['Memory', 'Size' , 'Camera Spec','Battery Power','Processor', 'Warranty']\n",
        "spec2 = ['Memory', 'Size' , 'Camera Spec','Processor', 'Warranty']"
      ],
      "metadata": {
        "id": "q9GVnbIDnZtG"
      },
      "execution_count": null,
      "outputs": []
    },
    {
      "cell_type": "code",
      "source": [
        "for i in range(len(_classes_) - 2):\n",
        "  print('Model :' , _classes_[i].find('div',class_ = '_4rR01T').string)\n",
        "  infos = _classes_[i].select('li.rgWa7D')\n",
        "  if len(infos) == 6:\n",
        "    for info , j in zip(infos,spec1):\n",
        "      print(j,':',info.string)\n",
        "  else:\n",
        "    for info , j in zip(infos,spec2):\n",
        "      print(j,':',info.string)\n",
        "  print()"
      ],
      "metadata": {
        "colab": {
          "base_uri": "https://localhost:8080/"
        },
        "id": "vHWtJNbGmJhh",
        "outputId": "457498fc-c60f-464c-eb3f-7f9139e090f1"
      },
      "execution_count": null,
      "outputs": [
        {
          "output_type": "stream",
          "name": "stdout",
          "text": [
            "Model : REDMI 10 (Caribbean Green, 64 GB)\n",
            "Memory : 4 GB RAM | 64 GB ROM | Expandable Upto 1 TB\n",
            "Size : 17.02 cm (6.7 inch) HD+ Display\n",
            "Camera Spec : 50MP + 2MP | 5MP Front Camera\n",
            "Battery Power : 6000 mAh Lithium Polymer Battery\n",
            "Processor : Qualcomm Snapdragon 680 Processor\n",
            "Warranty : 1 Year Warranty for Phone and 6 Months Warranty for In-Box Accessories\n",
            "\n",
            "Model : MOTOROLA e40 (Carbon Gray, 64 GB)\n",
            "Memory : 4 GB RAM | 64 GB ROM | Expandable Upto 1 TB\n",
            "Size : 16.51 cm (6.5 inch) HD+ Display\n",
            "Camera Spec : 48MP + 2MP + 2MP | 8MP Front Camera\n",
            "Battery Power : 5000 mAh Battery\n",
            "Processor : UNISOC T700 Processor\n",
            "Warranty : 1 Year on Handset and 6 Months on Accessories\n",
            "\n",
            "Model : REDMI 10 (Pacific Blue, 64 GB)\n",
            "Memory : 4 GB RAM | 64 GB ROM | Expandable Upto 1 TB\n",
            "Size : 17.02 cm (6.7 inch) HD+ Display\n",
            "Camera Spec : 50MP + 2MP | 5MP Front Camera\n",
            "Battery Power : 6000 mAh Lithium Polymer Battery\n",
            "Processor : Qualcomm Snapdragon 680 Processor\n",
            "Warranty : 1 Year Warranty for Phone and 6 Months Warranty for In-Box Accessories\n",
            "\n",
            "Model : REDMI 10 (Midnight Black, 64 GB)\n",
            "Memory : 4 GB RAM | 64 GB ROM | Expandable Upto 1 TB\n",
            "Size : 17.02 cm (6.7 inch) HD+ Display\n",
            "Camera Spec : 50MP + 2MP | 5MP Front Camera\n",
            "Battery Power : 6000 mAh Lithium Polymer Battery\n",
            "Processor : Qualcomm Snapdragon 680 Processor\n",
            "Warranty : 1 Year Warranty for Phone and 6 Months Warranty for In-Box Accessories\n",
            "\n",
            "Model : APPLE iPhone 14 (Blue, 128 GB)\n",
            "Memory : 128 GB ROM\n",
            "Size : 15.49 cm (6.1 inch) Super Retina XDR Display\n",
            "Camera Spec : 12MP + 12MP | 12MP Front Camera\n",
            "Processor : A15 Bionic Chip, 6 Core Processor Processor\n",
            "Warranty : 1 Year Warranty for Phone and 6 Months Warranty for In-Box Accessories\n",
            "\n",
            "Model : POCO C31 (Royal Blue, 64 GB)\n",
            "Memory : 4 GB RAM | 64 GB ROM | Expandable Upto 512 GB\n",
            "Size : 16.59 cm (6.53 inch) HD+ Display\n",
            "Camera Spec : 13MP + 2MP + 2MP | 5MP Front Camera\n",
            "Battery Power : 5000 mAh Lithium-ion Polymer Battery\n",
            "Processor : MediaTek G35 Processor\n",
            "Warranty : 1 Year Warranty for Handset, 6 Months for Accessories\n",
            "\n",
            "Model : SAMSUNG Galaxy F23 5G (Forest Green, 128 GB)\n",
            "Memory : 6 GB RAM | 128 GB ROM | Expandable Upto 1 TB\n",
            "Size : 16.76 cm (6.6 inch) Full HD+ Display\n",
            "Camera Spec : 50MP + 8MP + 2MP | 8MP Front Camera\n",
            "Battery Power : 5000 mAh Lithium Ion Battery\n",
            "Processor : Qualcomm Snapdragon 750G Processor\n",
            "Warranty : 1 Year Warranty Provided by the Manufacturer from Date of Purchase\n",
            "\n",
            "Model : MOTOROLA G62 5G (Midnight Gray, 128 GB)\n",
            "Memory : 6 GB RAM | 128 GB ROM\n",
            "Size : 16.64 cm (6.55 inch) Full HD+ Display\n",
            "Camera Spec : 50MP + 8MP + 2MP | 16MP Front Camera\n",
            "Battery Power : 5000 mAh Lithium Polymer Battery\n",
            "Processor : Qualcomm Snapdragon 695 5G Processor\n",
            "Warranty : 1 Year on Handset and 6 Months on Accessories\n",
            "\n",
            "Model : APPLE iPhone 14 (Starlight, 128 GB)\n",
            "Memory : 128 GB ROM\n",
            "Size : 15.49 cm (6.1 inch) Super Retina XDR Display\n",
            "Camera Spec : 12MP + 12MP | 12MP Front Camera\n",
            "Processor : A15 Bionic Chip, 6 Core Processor Processor\n",
            "Warranty : 1 Year Warranty for Phone and 6 Months Warranty for In-Box Accessories\n",
            "\n",
            "Model : POCO M4 Pro (Cool Blue, 128 GB)\n",
            "Memory : 6 GB RAM | 128 GB ROM | Expandable Upto 1 TB\n",
            "Size : 16.33 cm (6.43 inch) Full HD+ AMOLED Display\n",
            "Camera Spec : 64MP + 8MP + 2MP | 16MP Front Camera\n",
            "Battery Power : 5000 mAh Lithium-ion Polymer Battery\n",
            "Processor : Mediatek Helio G96 Processor\n",
            "Warranty : One Year for Handset, 6 Months for Accessories\n",
            "\n",
            "Model : POCO M4 Pro (Cool Blue, 64 GB)\n",
            "Memory : 6 GB RAM | 64 GB ROM | Expandable Upto 1 TB\n",
            "Size : 16.33 cm (6.43 inch) Full HD+ AMOLED Display\n",
            "Camera Spec : 64MP + 8MP + 2MP | 16MP Front Camera\n",
            "Battery Power : 5000 mAh Lithium-ion Polymer Battery\n",
            "Processor : Mediatek Helio G96 Processor\n",
            "Warranty : One Year for Handset, 6 Months for Accessories\n",
            "\n",
            "Model : POCO M4 Pro (Yellow, 64 GB)\n",
            "Memory : 6 GB RAM | 64 GB ROM | Expandable Upto 1 TB\n",
            "Size : 16.33 cm (6.43 inch) Full HD+ AMOLED Display\n",
            "Camera Spec : 64MP + 8MP + 2MP | 16MP Front Camera\n",
            "Battery Power : 5000 mAh Lithium-ion Polymer Battery\n",
            "Processor : Mediatek Helio G96 Processor\n",
            "Warranty : One Year for Handset, 6 Months for Accessories\n",
            "\n",
            "Model : APPLE iPhone 11 (White, 64 GB)\n",
            "Memory : 64 GB ROM\n",
            "Size : 15.49 cm (6.1 inch) Liquid Retina HD Display\n",
            "Camera Spec : 12MP + 12MP | 12MP Front Camera\n",
            "Processor : A13 Bionic Chip Processor\n",
            "Warranty : Brand Warranty of 1 Year\n",
            "\n",
            "Model : APPLE iPhone 11 (Black, 64 GB)\n",
            "Memory : 64 GB ROM\n",
            "Size : 15.49 cm (6.1 inch) Liquid Retina HD Display\n",
            "Camera Spec : 12MP + 12MP | 12MP Front Camera\n",
            "Processor : A13 Bionic Chip Processor\n",
            "Warranty : Brand Warranty of 1 Year\n",
            "\n",
            "Model : MOTOROLA e40 (Pink Clay, 64 GB)\n",
            "Memory : 4 GB RAM | 64 GB ROM | Expandable Upto 1 TB\n",
            "Size : 16.51 cm (6.5 inch) HD+ Display\n",
            "Camera Spec : 48MP + 2MP + 2MP | 8MP Front Camera\n",
            "Battery Power : 5000 mAh Battery\n",
            "Processor : UNISOC T700 Processor\n",
            "Warranty : 1 Year on Handset and 6 Months on Accessories\n",
            "\n",
            "Model : MOTOROLA G32 (Mineral Gray, 64 GB)\n",
            "Memory : 4 GB RAM | 64 GB ROM\n",
            "Size : 16.64 cm (6.55 inch) Full HD+ Display\n",
            "Camera Spec : 50MP + 8MP + 2MP | 16MP Front Camera\n",
            "Battery Power : 5000 mAh Lithium Polymer Battery\n",
            "Processor : Qualcomm Snapdragon 680 Processor\n",
            "Warranty : 1 Year on Handset and 6 Months on Accessories\n",
            "\n",
            "Model : REDMI Note 11 SE (Cosmic White, 64 GB)\n",
            "Memory : 6 GB RAM | 64 GB ROM | Expandable Upto 512 GB\n",
            "Size : 16.33 cm (6.43 inch) Full HD+ Display\n",
            "Camera Spec : 64MP + 8MP + 2MP + 2MP | 13MP Front Camera\n",
            "Battery Power : 5000 mAh Lithium Polymer Battery\n",
            "Processor : Mediatek Helio G95 Octa Core Processor\n",
            "Warranty : 1 Year Manufacturer Warranty for Phone and 6 Months Warranty for In the Box Accessories\n",
            "\n",
            "Model : REDMI 9i Sport (Carbon Black, 64 GB)\n",
            "Memory : 4 GB RAM | 64 GB ROM | Expandable Upto 512 GB\n",
            "Size : 16.59 cm (6.53 inch) HD+ Display\n",
            "Camera Spec : 13MP Rear Camera | 5MP Front Camera\n",
            "Battery Power : 5000 mAh Li-Polymer Battery\n",
            "Processor : MediaTek Helio G25 Processor\n",
            "Warranty : Brand Warranty of 1 Year Available for Mobile and 6 Months for Accessories\n",
            "\n",
            "Model : APPLE iPhone 13 (Midnight, 128 GB)\n",
            "Memory : 128 GB ROM\n",
            "Size : 15.49 cm (6.1 inch) Super Retina XDR Display\n",
            "Camera Spec : 12MP + 12MP | 12MP Front Camera\n",
            "Processor : A15 Bionic Chip Processor\n",
            "Warranty : Brand Warranty for 1 Year\n",
            "\n",
            "Model : APPLE iPhone 13 (Blue, 128 GB)\n",
            "Memory : 128 GB ROM\n",
            "Size : 15.49 cm (6.1 inch) Super Retina XDR Display\n",
            "Camera Spec : 12MP + 12MP | 12MP Front Camera\n",
            "Processor : A15 Bionic Chip Processor\n",
            "Warranty : Brand Warranty for 1 Year\n",
            "\n",
            "Model : REDMI 9i Sport (Coral Green, 64 GB)\n",
            "Memory : 4 GB RAM | 64 GB ROM | Expandable Upto 512 GB\n",
            "Size : 16.59 cm (6.53 inch) HD+ Display\n",
            "Camera Spec : 13MP Rear Camera | 5MP Front Camera\n",
            "Battery Power : 5000 mAh Li-Polymer Battery\n",
            "Processor : MediaTek Helio G25 Processor\n",
            "Warranty : Brand Warranty of 1 Year Available for Mobile and 6 Months for Accessories\n",
            "\n",
            "Model : POCO C31 (Shadow Gray, 32 GB)\n",
            "Memory : 3 GB RAM | 32 GB ROM | Expandable Upto 512 GB\n",
            "Size : 16.59 cm (6.53 inch) HD+ Display\n",
            "Camera Spec : 13MP + 2MP + 2MP | 5MP Front Camera\n",
            "Battery Power : 5000 mAh Lithium-ion Polymer Battery\n",
            "Processor : MediaTek Helio G35 Processor\n",
            "Warranty : 1 Year Warranty for Handset, 6 Months for Accessories\n",
            "\n",
            "Model : MOTOROLA G62 5G (Frosted Blue, 128 GB)\n",
            "Memory : 6 GB RAM | 128 GB ROM\n",
            "Size : 16.64 cm (6.55 inch) Full HD+ Display\n",
            "Camera Spec : 50MP + 8MP + 2MP | 16MP Front Camera\n",
            "Battery Power : 5000 mAh Lithium Polymer Battery\n",
            "Processor : Qualcomm Snapdragon 695 5G Processor\n",
            "Warranty : 1 Year on Handset and 6 Months on Accessories\n",
            "\n",
            "Model : SAMSUNG Galaxy F13 (Nightsky Green, 64 GB)\n",
            "Memory : 4 GB RAM | 64 GB ROM | Expandable Upto 1 TB\n",
            "Size : 16.76 cm (6.6 inch) Full HD+ Display\n",
            "Camera Spec : 50MP + 5MP + 2MP | 8MP Front Camera\n",
            "Battery Power : 6000 mAh Lithium Ion Battery\n",
            "Processor : Exynos 850 Processor\n",
            "Warranty : 1 Year Warranty Provided By the Manufacturer from Date of Purchase\n",
            "\n"
          ]
        }
      ]
    },
    {
      "cell_type": "code",
      "source": [],
      "metadata": {
        "id": "jyz2Te7Qk6cM"
      },
      "execution_count": null,
      "outputs": []
    }
  ]
}